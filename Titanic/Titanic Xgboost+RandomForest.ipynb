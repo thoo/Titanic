{
 "cells": [
  {
   "cell_type": "code",
   "execution_count": null,
   "metadata": {
    "collapsed": true
   },
   "outputs": [],
   "source": [
    "#Follow this one:https://www.kaggle.com/piplimoon/titanic/leaderboard-0-8134/run/207748"
   ]
  },
  {
   "cell_type": "code",
   "execution_count": 1,
   "metadata": {
    "collapsed": true
   },
   "outputs": [],
   "source": [
    "%matplotlib inline\n",
    "import pandas as pd\n",
    "import numpy as np\n",
    "import matplotlib.pyplot as plt\n",
    "import seaborn as sb\n",
    "from time import time"
   ]
  },
  {
   "cell_type": "code",
   "execution_count": 2,
   "metadata": {
    "collapsed": true
   },
   "outputs": [],
   "source": [
    "from sklearn.pipeline import Pipeline\n",
    "from sklearn.ensemble import RandomForestClassifier\n",
    "from sklearn.feature_selection import SelectKBest\n",
    "from sklearn import cross_validation, metrics\n",
    "from sklearn.grid_search import GridSearchCV, RandomizedSearchCV\n",
    "from sklearn.cross_validation import StratifiedKFold\n",
    "from sklearn.cross_validation import train_test_split\n",
    "from sklearn.tree import DecisionTreeClassifier\n",
    "from sklearn.pipeline import make_pipeline\n",
    "from sklearn.cross_validation import cross_val_score\n",
    "from sklearn.preprocessing import StandardScaler\n",
    "from sklearn.linear_model import LogisticRegression"
   ]
  },
  {
   "cell_type": "code",
   "execution_count": 3,
   "metadata": {
    "collapsed": false
   },
   "outputs": [],
   "source": [
    "train = pd.read_csv(\"train.csv\", dtype={\"Age\": np.float64}, )\n",
    "test = pd.read_csv(\"test.csv\", dtype={\"Age\": np.float64}, )"
   ]
  },
  {
   "cell_type": "code",
   "execution_count": 4,
   "metadata": {
    "collapsed": true
   },
   "outputs": [],
   "source": [
    "train_set = train.drop(\"Survived\", axis = 1)\n",
    "df_combo = pd.concat((train_set, test), axis = 0, ignore_index = True)"
   ]
  },
  {
   "cell_type": "code",
   "execution_count": 5,
   "metadata": {
    "collapsed": false
   },
   "outputs": [
    {
     "data": {
      "text/html": [
       "<div>\n",
       "<table border=\"1\" class=\"dataframe\">\n",
       "  <thead>\n",
       "    <tr style=\"text-align: right;\">\n",
       "      <th></th>\n",
       "      <th>PassengerId</th>\n",
       "      <th>Pclass</th>\n",
       "      <th>Name</th>\n",
       "      <th>Sex</th>\n",
       "      <th>Age</th>\n",
       "      <th>SibSp</th>\n",
       "      <th>Parch</th>\n",
       "      <th>Ticket</th>\n",
       "      <th>Fare</th>\n",
       "      <th>Cabin</th>\n",
       "      <th>Embarked</th>\n",
       "    </tr>\n",
       "  </thead>\n",
       "  <tbody>\n",
       "    <tr>\n",
       "      <th>0</th>\n",
       "      <td>1</td>\n",
       "      <td>3</td>\n",
       "      <td>Braund, Mr. Owen Harris</td>\n",
       "      <td>male</td>\n",
       "      <td>22.0</td>\n",
       "      <td>1</td>\n",
       "      <td>0</td>\n",
       "      <td>A/5 21171</td>\n",
       "      <td>7.2500</td>\n",
       "      <td>NaN</td>\n",
       "      <td>S</td>\n",
       "    </tr>\n",
       "    <tr>\n",
       "      <th>1</th>\n",
       "      <td>2</td>\n",
       "      <td>1</td>\n",
       "      <td>Cumings, Mrs. John Bradley (Florence Briggs Th...</td>\n",
       "      <td>female</td>\n",
       "      <td>38.0</td>\n",
       "      <td>1</td>\n",
       "      <td>0</td>\n",
       "      <td>PC 17599</td>\n",
       "      <td>71.2833</td>\n",
       "      <td>C85</td>\n",
       "      <td>C</td>\n",
       "    </tr>\n",
       "    <tr>\n",
       "      <th>2</th>\n",
       "      <td>3</td>\n",
       "      <td>3</td>\n",
       "      <td>Heikkinen, Miss. Laina</td>\n",
       "      <td>female</td>\n",
       "      <td>26.0</td>\n",
       "      <td>0</td>\n",
       "      <td>0</td>\n",
       "      <td>STON/O2. 3101282</td>\n",
       "      <td>7.9250</td>\n",
       "      <td>NaN</td>\n",
       "      <td>S</td>\n",
       "    </tr>\n",
       "    <tr>\n",
       "      <th>3</th>\n",
       "      <td>4</td>\n",
       "      <td>1</td>\n",
       "      <td>Futrelle, Mrs. Jacques Heath (Lily May Peel)</td>\n",
       "      <td>female</td>\n",
       "      <td>35.0</td>\n",
       "      <td>1</td>\n",
       "      <td>0</td>\n",
       "      <td>113803</td>\n",
       "      <td>53.1000</td>\n",
       "      <td>C123</td>\n",
       "      <td>S</td>\n",
       "    </tr>\n",
       "    <tr>\n",
       "      <th>4</th>\n",
       "      <td>5</td>\n",
       "      <td>3</td>\n",
       "      <td>Allen, Mr. William Henry</td>\n",
       "      <td>male</td>\n",
       "      <td>35.0</td>\n",
       "      <td>0</td>\n",
       "      <td>0</td>\n",
       "      <td>373450</td>\n",
       "      <td>8.0500</td>\n",
       "      <td>NaN</td>\n",
       "      <td>S</td>\n",
       "    </tr>\n",
       "  </tbody>\n",
       "</table>\n",
       "</div>"
      ],
      "text/plain": [
       "   PassengerId  Pclass                                               Name  \\\n",
       "0            1       3                            Braund, Mr. Owen Harris   \n",
       "1            2       1  Cumings, Mrs. John Bradley (Florence Briggs Th...   \n",
       "2            3       3                             Heikkinen, Miss. Laina   \n",
       "3            4       1       Futrelle, Mrs. Jacques Heath (Lily May Peel)   \n",
       "4            5       3                           Allen, Mr. William Henry   \n",
       "\n",
       "      Sex   Age  SibSp  Parch            Ticket     Fare Cabin Embarked  \n",
       "0    male  22.0      1      0         A/5 21171   7.2500   NaN        S  \n",
       "1  female  38.0      1      0          PC 17599  71.2833   C85        C  \n",
       "2  female  26.0      0      0  STON/O2. 3101282   7.9250   NaN        S  \n",
       "3  female  35.0      1      0            113803  53.1000  C123        S  \n",
       "4    male  35.0      0      0            373450   8.0500   NaN        S  "
      ]
     },
     "execution_count": 5,
     "metadata": {},
     "output_type": "execute_result"
    }
   ],
   "source": [
    "df_combo.head()"
   ]
  },
  {
   "cell_type": "code",
   "execution_count": 6,
   "metadata": {
    "collapsed": false
   },
   "outputs": [
    {
     "name": "stdout",
     "output_type": "stream",
     "text": [
      "<class 'pandas.core.frame.DataFrame'>\n",
      "Int64Index: 1309 entries, 0 to 1308\n",
      "Data columns (total 11 columns):\n",
      "PassengerId    1309 non-null int64\n",
      "Pclass         1309 non-null int64\n",
      "Name           1309 non-null object\n",
      "Sex            1309 non-null object\n",
      "Age            1046 non-null float64\n",
      "SibSp          1309 non-null int64\n",
      "Parch          1309 non-null int64\n",
      "Ticket         1309 non-null object\n",
      "Fare           1308 non-null float64\n",
      "Cabin          295 non-null object\n",
      "Embarked       1307 non-null object\n",
      "dtypes: float64(2), int64(4), object(5)\n",
      "memory usage: 122.7+ KB\n"
     ]
    }
   ],
   "source": [
    "df_combo.info()"
   ]
  },
  {
   "cell_type": "code",
   "execution_count": 7,
   "metadata": {
    "collapsed": false
   },
   "outputs": [
    {
     "data": {
      "text/plain": [
       "count     1307\n",
       "unique       3\n",
       "top          S\n",
       "freq       914\n",
       "Name: Embarked, dtype: object"
      ]
     },
     "execution_count": 7,
     "metadata": {},
     "output_type": "execute_result"
    }
   ],
   "source": [
    "df_combo.Embarked.describe()"
   ]
  },
  {
   "cell_type": "code",
   "execution_count": 8,
   "metadata": {
    "collapsed": false
   },
   "outputs": [],
   "source": [
    "#S is the most common one.\n",
    "df_combo[\"Embarked\"] = df_combo[\"Embarked\"].fillna(\"S\")"
   ]
  },
  {
   "cell_type": "code",
   "execution_count": 9,
   "metadata": {
    "collapsed": true
   },
   "outputs": [],
   "source": [
    "def get_title(name):\n",
    "    if '.' in name:\n",
    "        return name.split(',')[1].split('.')[0].strip()\n",
    "    else:\n",
    "        return 'Unknown'"
   ]
  },
  {
   "cell_type": "code",
   "execution_count": 10,
   "metadata": {
    "collapsed": false
   },
   "outputs": [
    {
     "data": {
      "text/plain": [
       "'Futrelle, Mrs. Jacques Heath (Lily May Peel)'"
      ]
     },
     "execution_count": 10,
     "metadata": {},
     "output_type": "execute_result"
    }
   ],
   "source": [
    "df_combo.ix[3,2]"
   ]
  },
  {
   "cell_type": "code",
   "execution_count": 11,
   "metadata": {
    "collapsed": true
   },
   "outputs": [],
   "source": [
    "def get_surname(name):\n",
    "    if '.' in name:\n",
    "        return name.split(',')[0].strip()\n",
    "    else:\n",
    "        return 'Unknown'"
   ]
  },
  {
   "cell_type": "code",
   "execution_count": 12,
   "metadata": {
    "collapsed": false
   },
   "outputs": [
    {
     "data": {
      "text/plain": [
       "20                                 Fynney, Mr. Joseph J\n",
       "21                                Beesley, Mr. Lawrence\n",
       "22                          McGowan, Miss. Anna \"Annie\"\n",
       "23                         Sloper, Mr. William Thompson\n",
       "24                        Palsson, Miss. Torborg Danira\n",
       "25    Asplund, Mrs. Carl Oscar (Selma Augusta Emilia...\n",
       "26                              Emir, Mr. Farred Chehab\n",
       "27                       Fortune, Mr. Charles Alexander\n",
       "28                        O'Dwyer, Miss. Ellen \"Nellie\"\n",
       "29                                  Todoroff, Mr. Lalio\n",
       "30                             Uruchurtu, Don. Manuel E\n",
       "31       Spencer, Mrs. William Augustus (Marie Eugenie)\n",
       "32                             Glynn, Miss. Mary Agatha\n",
       "33                                Wheadon, Mr. Edward H\n",
       "34                              Meyer, Mr. Edgar Joseph\n",
       "35                       Holverson, Mr. Alexander Oskar\n",
       "36                                     Mamee, Mr. Hanna\n",
       "37                             Cann, Mr. Ernest Charles\n",
       "38                   Vander Planke, Miss. Augusta Maria\n",
       "39                          Nicola-Yarred, Miss. Jamila\n",
       "40       Ahlin, Mrs. Johan (Johanna Persdotter Larsson)\n",
       "Name: Name, dtype: object"
      ]
     },
     "execution_count": 12,
     "metadata": {},
     "output_type": "execute_result"
    }
   ],
   "source": [
    "df_combo.ix[20:40,2]"
   ]
  },
  {
   "cell_type": "code",
   "execution_count": null,
   "metadata": {
    "collapsed": false,
    "scrolled": true
   },
   "outputs": [],
   "source": [
    "#print(df_combo.ix[4,2].split(',')[0].strip())"
   ]
  },
  {
   "cell_type": "code",
   "execution_count": 13,
   "metadata": {
    "collapsed": true
   },
   "outputs": [],
   "source": [
    "df_combo['Title'] = df_combo['Name'].map(lambda x: get_title(x))\n",
    "df_combo['Surname'] = df_combo['Name'].map(lambda x: get_surname(x))"
   ]
  },
  {
   "cell_type": "code",
   "execution_count": 14,
   "metadata": {
    "collapsed": false
   },
   "outputs": [
    {
     "data": {
      "text/plain": [
       "array(['Mr', 'Mrs', 'Miss', 'Master', 'Don', 'Rev', 'Dr', 'Mme', 'Ms',\n",
       "       'Major', 'Lady', 'Sir', 'Mlle', 'Col', 'Capt', 'the Countess',\n",
       "       'Jonkheer', 'Dona'], dtype=object)"
      ]
     },
     "execution_count": 14,
     "metadata": {},
     "output_type": "execute_result"
    }
   ],
   "source": [
    "df_combo['Title'].unique()"
   ]
  },
  {
   "cell_type": "code",
   "execution_count": 15,
   "metadata": {
    "collapsed": false
   },
   "outputs": [],
   "source": [
    "#R_table(df_combo['Surname'])\n",
    "Surname_Fam = pd.concat([df_combo['Surname'], df_combo[[\"SibSp\", \"Parch\"]]], axis = 1)\n",
    "Surname_Fam[\"Fam\"] = Surname_Fam.Parch + Surname_Fam.SibSp + 1\n"
   ]
  },
  {
   "cell_type": "code",
   "execution_count": 16,
   "metadata": {
    "collapsed": false
   },
   "outputs": [
    {
     "data": {
      "text/html": [
       "<div>\n",
       "<table border=\"1\" class=\"dataframe\">\n",
       "  <thead>\n",
       "    <tr style=\"text-align: right;\">\n",
       "      <th></th>\n",
       "      <th>PassengerId</th>\n",
       "      <th>Pclass</th>\n",
       "      <th>Name</th>\n",
       "      <th>Sex</th>\n",
       "      <th>Age</th>\n",
       "      <th>SibSp</th>\n",
       "      <th>Parch</th>\n",
       "      <th>Ticket</th>\n",
       "      <th>Fare</th>\n",
       "      <th>Cabin</th>\n",
       "      <th>Embarked</th>\n",
       "      <th>Title</th>\n",
       "      <th>Surname</th>\n",
       "      <th>Fam</th>\n",
       "    </tr>\n",
       "  </thead>\n",
       "  <tbody>\n",
       "    <tr>\n",
       "      <th>0</th>\n",
       "      <td>1</td>\n",
       "      <td>3</td>\n",
       "      <td>Braund, Mr. Owen Harris</td>\n",
       "      <td>male</td>\n",
       "      <td>22.0</td>\n",
       "      <td>1</td>\n",
       "      <td>0</td>\n",
       "      <td>A/5 21171</td>\n",
       "      <td>7.2500</td>\n",
       "      <td>NaN</td>\n",
       "      <td>S</td>\n",
       "      <td>Mr</td>\n",
       "      <td>Braund</td>\n",
       "      <td>2</td>\n",
       "    </tr>\n",
       "    <tr>\n",
       "      <th>1</th>\n",
       "      <td>2</td>\n",
       "      <td>1</td>\n",
       "      <td>Cumings, Mrs. John Bradley (Florence Briggs Th...</td>\n",
       "      <td>female</td>\n",
       "      <td>38.0</td>\n",
       "      <td>1</td>\n",
       "      <td>0</td>\n",
       "      <td>PC 17599</td>\n",
       "      <td>71.2833</td>\n",
       "      <td>C85</td>\n",
       "      <td>C</td>\n",
       "      <td>Mrs</td>\n",
       "      <td>Cumings</td>\n",
       "      <td>2</td>\n",
       "    </tr>\n",
       "    <tr>\n",
       "      <th>2</th>\n",
       "      <td>3</td>\n",
       "      <td>3</td>\n",
       "      <td>Heikkinen, Miss. Laina</td>\n",
       "      <td>female</td>\n",
       "      <td>26.0</td>\n",
       "      <td>0</td>\n",
       "      <td>0</td>\n",
       "      <td>STON/O2. 3101282</td>\n",
       "      <td>7.9250</td>\n",
       "      <td>NaN</td>\n",
       "      <td>S</td>\n",
       "      <td>Miss</td>\n",
       "      <td>Heikkinen</td>\n",
       "      <td>1</td>\n",
       "    </tr>\n",
       "    <tr>\n",
       "      <th>3</th>\n",
       "      <td>4</td>\n",
       "      <td>1</td>\n",
       "      <td>Futrelle, Mrs. Jacques Heath (Lily May Peel)</td>\n",
       "      <td>female</td>\n",
       "      <td>35.0</td>\n",
       "      <td>1</td>\n",
       "      <td>0</td>\n",
       "      <td>113803</td>\n",
       "      <td>53.1000</td>\n",
       "      <td>C123</td>\n",
       "      <td>S</td>\n",
       "      <td>Mrs</td>\n",
       "      <td>Futrelle</td>\n",
       "      <td>2</td>\n",
       "    </tr>\n",
       "    <tr>\n",
       "      <th>4</th>\n",
       "      <td>5</td>\n",
       "      <td>3</td>\n",
       "      <td>Allen, Mr. William Henry</td>\n",
       "      <td>male</td>\n",
       "      <td>35.0</td>\n",
       "      <td>0</td>\n",
       "      <td>0</td>\n",
       "      <td>373450</td>\n",
       "      <td>8.0500</td>\n",
       "      <td>NaN</td>\n",
       "      <td>S</td>\n",
       "      <td>Mr</td>\n",
       "      <td>Allen</td>\n",
       "      <td>1</td>\n",
       "    </tr>\n",
       "  </tbody>\n",
       "</table>\n",
       "</div>"
      ],
      "text/plain": [
       "   PassengerId  Pclass                                               Name  \\\n",
       "0            1       3                            Braund, Mr. Owen Harris   \n",
       "1            2       1  Cumings, Mrs. John Bradley (Florence Briggs Th...   \n",
       "2            3       3                             Heikkinen, Miss. Laina   \n",
       "3            4       1       Futrelle, Mrs. Jacques Heath (Lily May Peel)   \n",
       "4            5       3                           Allen, Mr. William Henry   \n",
       "\n",
       "      Sex   Age  SibSp  Parch            Ticket     Fare Cabin Embarked Title  \\\n",
       "0    male  22.0      1      0         A/5 21171   7.2500   NaN        S    Mr   \n",
       "1  female  38.0      1      0          PC 17599  71.2833   C85        C   Mrs   \n",
       "2  female  26.0      0      0  STON/O2. 3101282   7.9250   NaN        S  Miss   \n",
       "3  female  35.0      1      0            113803  53.1000  C123        S   Mrs   \n",
       "4    male  35.0      0      0            373450   8.0500   NaN        S    Mr   \n",
       "\n",
       "     Surname  Fam  \n",
       "0     Braund    2  \n",
       "1    Cumings    2  \n",
       "2  Heikkinen    1  \n",
       "3   Futrelle    2  \n",
       "4      Allen    1  "
      ]
     },
     "execution_count": 16,
     "metadata": {},
     "output_type": "execute_result"
    }
   ],
   "source": [
    "df_combo = pd.concat([df_combo, Surname_Fam[\"Fam\"]], axis = 1)\n",
    "df_combo.head()"
   ]
  },
  {
   "cell_type": "code",
   "execution_count": 17,
   "metadata": {
    "collapsed": true
   },
   "outputs": [],
   "source": [
    "def replace_titles(x):\n",
    "    title = x['Title']\n",
    "    if title in ['Capt', 'Col', 'Major','Dr','Rev']:\n",
    "        return 'Officer'\n",
    "    #elif title in ['the Countess', 'Dona', 'Lady']:\n",
    "    #    return 'Lady'\n",
    "    #elif title in ['Don', 'Sir','Jonkheer']:\n",
    "    #    return 'Sir'\n",
    "    elif title in ['the Countess', 'Dona', 'Lady','Don', 'Sir','Jonkheer']:\n",
    "        return 'Royalty'\n",
    "    elif title in ['Mme','Mrs','Ms']:\n",
    "        return 'Mrs'\n",
    "    elif title in ['Miss','Mlle']:\n",
    "        return 'Miss' \n",
    "    else:\n",
    "        return title"
   ]
  },
  {
   "cell_type": "code",
   "execution_count": 18,
   "metadata": {
    "collapsed": false
   },
   "outputs": [],
   "source": [
    "df_combo['Title']=df_combo.apply(replace_titles, axis=1)\n"
   ]
  },
  {
   "cell_type": "code",
   "execution_count": 19,
   "metadata": {
    "collapsed": false
   },
   "outputs": [],
   "source": [
    "def R_table(x):\n",
    "    ps = pd.Series([tuple(i) for i in x])\n",
    "    counts = ps.value_counts()\n",
    "    print( counts)"
   ]
  },
  {
   "cell_type": "code",
   "execution_count": 20,
   "metadata": {
    "collapsed": false,
    "scrolled": true
   },
   "outputs": [
    {
     "name": "stdout",
     "output_type": "stream",
     "text": [
      "(M, r)                   757\n",
      "(M, i, s, s)             262\n",
      "(M, r, s)                200\n",
      "(M, a, s, t, e, r)        61\n",
      "(O, f, f, i, c, e, r)     23\n",
      "(R, o, y, a, l, t, y)      6\n",
      "dtype: int64\n"
     ]
    }
   ],
   "source": [
    "R_table(df_combo.Title)"
   ]
  },
  {
   "cell_type": "code",
   "execution_count": 21,
   "metadata": {
    "collapsed": true
   },
   "outputs": [],
   "source": [
    "Cabin_List = df_combo.loc[:,[\"Cabin\"]]\n",
    "Cabin_List = Cabin_List.fillna(\"UNK\")\n",
    "Cabin_Code = []\n",
    "for j in Cabin_List.Cabin:\n",
    "    Cabin_Code.append(j[0])\n",
    "Cabin_Code = pd.DataFrame({\"Deck\" : Cabin_Code})\n",
    "df_combo = pd.concat([df_combo, Cabin_Code], axis = 1)\n"
   ]
  },
  {
   "cell_type": "code",
   "execution_count": 22,
   "metadata": {
    "collapsed": false
   },
   "outputs": [
    {
     "data": {
      "text/html": [
       "<div>\n",
       "<table border=\"1\" class=\"dataframe\">\n",
       "  <thead>\n",
       "    <tr style=\"text-align: right;\">\n",
       "      <th></th>\n",
       "      <th>PassengerId</th>\n",
       "      <th>Pclass</th>\n",
       "      <th>Name</th>\n",
       "      <th>Sex</th>\n",
       "      <th>Age</th>\n",
       "      <th>SibSp</th>\n",
       "      <th>Parch</th>\n",
       "      <th>Ticket</th>\n",
       "      <th>Fare</th>\n",
       "      <th>Cabin</th>\n",
       "      <th>Embarked</th>\n",
       "      <th>Title</th>\n",
       "      <th>Surname</th>\n",
       "      <th>Fam</th>\n",
       "      <th>Deck</th>\n",
       "    </tr>\n",
       "  </thead>\n",
       "  <tbody>\n",
       "    <tr>\n",
       "      <th>0</th>\n",
       "      <td>1</td>\n",
       "      <td>3</td>\n",
       "      <td>Braund, Mr. Owen Harris</td>\n",
       "      <td>male</td>\n",
       "      <td>22.0</td>\n",
       "      <td>1</td>\n",
       "      <td>0</td>\n",
       "      <td>A/5 21171</td>\n",
       "      <td>7.2500</td>\n",
       "      <td>NaN</td>\n",
       "      <td>S</td>\n",
       "      <td>Mr</td>\n",
       "      <td>Braund</td>\n",
       "      <td>2</td>\n",
       "      <td>U</td>\n",
       "    </tr>\n",
       "    <tr>\n",
       "      <th>1</th>\n",
       "      <td>2</td>\n",
       "      <td>1</td>\n",
       "      <td>Cumings, Mrs. John Bradley (Florence Briggs Th...</td>\n",
       "      <td>female</td>\n",
       "      <td>38.0</td>\n",
       "      <td>1</td>\n",
       "      <td>0</td>\n",
       "      <td>PC 17599</td>\n",
       "      <td>71.2833</td>\n",
       "      <td>C85</td>\n",
       "      <td>C</td>\n",
       "      <td>Mrs</td>\n",
       "      <td>Cumings</td>\n",
       "      <td>2</td>\n",
       "      <td>C</td>\n",
       "    </tr>\n",
       "    <tr>\n",
       "      <th>2</th>\n",
       "      <td>3</td>\n",
       "      <td>3</td>\n",
       "      <td>Heikkinen, Miss. Laina</td>\n",
       "      <td>female</td>\n",
       "      <td>26.0</td>\n",
       "      <td>0</td>\n",
       "      <td>0</td>\n",
       "      <td>STON/O2. 3101282</td>\n",
       "      <td>7.9250</td>\n",
       "      <td>NaN</td>\n",
       "      <td>S</td>\n",
       "      <td>Miss</td>\n",
       "      <td>Heikkinen</td>\n",
       "      <td>1</td>\n",
       "      <td>U</td>\n",
       "    </tr>\n",
       "    <tr>\n",
       "      <th>3</th>\n",
       "      <td>4</td>\n",
       "      <td>1</td>\n",
       "      <td>Futrelle, Mrs. Jacques Heath (Lily May Peel)</td>\n",
       "      <td>female</td>\n",
       "      <td>35.0</td>\n",
       "      <td>1</td>\n",
       "      <td>0</td>\n",
       "      <td>113803</td>\n",
       "      <td>53.1000</td>\n",
       "      <td>C123</td>\n",
       "      <td>S</td>\n",
       "      <td>Mrs</td>\n",
       "      <td>Futrelle</td>\n",
       "      <td>2</td>\n",
       "      <td>C</td>\n",
       "    </tr>\n",
       "    <tr>\n",
       "      <th>4</th>\n",
       "      <td>5</td>\n",
       "      <td>3</td>\n",
       "      <td>Allen, Mr. William Henry</td>\n",
       "      <td>male</td>\n",
       "      <td>35.0</td>\n",
       "      <td>0</td>\n",
       "      <td>0</td>\n",
       "      <td>373450</td>\n",
       "      <td>8.0500</td>\n",
       "      <td>NaN</td>\n",
       "      <td>S</td>\n",
       "      <td>Mr</td>\n",
       "      <td>Allen</td>\n",
       "      <td>1</td>\n",
       "      <td>U</td>\n",
       "    </tr>\n",
       "  </tbody>\n",
       "</table>\n",
       "</div>"
      ],
      "text/plain": [
       "   PassengerId  Pclass                                               Name  \\\n",
       "0            1       3                            Braund, Mr. Owen Harris   \n",
       "1            2       1  Cumings, Mrs. John Bradley (Florence Briggs Th...   \n",
       "2            3       3                             Heikkinen, Miss. Laina   \n",
       "3            4       1       Futrelle, Mrs. Jacques Heath (Lily May Peel)   \n",
       "4            5       3                           Allen, Mr. William Henry   \n",
       "\n",
       "      Sex   Age  SibSp  Parch            Ticket     Fare Cabin Embarked Title  \\\n",
       "0    male  22.0      1      0         A/5 21171   7.2500   NaN        S    Mr   \n",
       "1  female  38.0      1      0          PC 17599  71.2833   C85        C   Mrs   \n",
       "2  female  26.0      0      0  STON/O2. 3101282   7.9250   NaN        S  Miss   \n",
       "3  female  35.0      1      0            113803  53.1000  C123        S   Mrs   \n",
       "4    male  35.0      0      0            373450   8.0500   NaN        S    Mr   \n",
       "\n",
       "     Surname  Fam Deck  \n",
       "0     Braund    2    U  \n",
       "1    Cumings    2    C  \n",
       "2  Heikkinen    1    U  \n",
       "3   Futrelle    2    C  \n",
       "4      Allen    1    U  "
      ]
     },
     "execution_count": 22,
     "metadata": {},
     "output_type": "execute_result"
    }
   ],
   "source": [
    "df_combo.head()"
   ]
  },
  {
   "cell_type": "code",
   "execution_count": 23,
   "metadata": {
    "collapsed": false
   },
   "outputs": [],
   "source": [
    "def Fam_label(s):\n",
    "    if (s >= 2) & (s <= 4):\n",
    "        return 2\n",
    "    elif ((s > 4) & (s <= 7)) | (s == 1):\n",
    "        return 1\n",
    "    elif (s > 7):\n",
    "        return 0\n",
    "\n",
    "df_combo[\"Fam\"] = df_combo.loc[:,\"Fam\"].apply(Fam_label)\n"
   ]
  },
  {
   "cell_type": "code",
   "execution_count": 24,
   "metadata": {
    "collapsed": false
   },
   "outputs": [],
   "source": [
    "def Title_label(s):\n",
    "    if (s == \"Sir\") | (s == \"Lady\"):\n",
    "        return \"Royalty\"\n",
    "    elif (s == \"Dr\") | (s == \"Officer\") | (s == \"Rev\"):\n",
    "        return \"Officer\"\n",
    "    else:\n",
    "        return s\n",
    "        \n",
    "df_combo[\"Title\"] = df_combo.loc[:,\"Title\"].apply(Title_label)    "
   ]
  },
  {
   "cell_type": "code",
   "execution_count": 25,
   "metadata": {
    "collapsed": false
   },
   "outputs": [],
   "source": [
    "def tix_clean(j):\n",
    "    j = j.replace(\".\", \"\")\n",
    "    j = j.replace(\"/\", \"\")\n",
    "    j = j.replace(\" \", \"\")\n",
    "    return j\n",
    "    \n",
    "df_combo[[\"Ticket\"]] = df_combo.loc[:,\"Ticket\"].apply(tix_clean)\n",
    "\n",
    "Ticket_count = dict(df_combo.Ticket.value_counts())\n",
    "\n",
    "def Tix_ct(y):\n",
    "    return Ticket_count[y]\n",
    "\n",
    "df_combo[\"TicketGrp\"] = df_combo.Ticket.apply(Tix_ct)\n",
    "def Tix_label(s):\n",
    "    if (s >= 2) & (s <= 4):\n",
    "        return 2\n",
    "    elif ((s > 4) & (s <= 8)) | (s == 1):\n",
    "        return 1\n",
    "    elif (s > 8):\n",
    "        return 0\n",
    "\n",
    "df_combo[\"TicketGrp\"] = df_combo.loc[:,\"TicketGrp\"].apply(Tix_label)   \n"
   ]
  },
  {
   "cell_type": "code",
   "execution_count": 26,
   "metadata": {
    "collapsed": false
   },
   "outputs": [
    {
     "data": {
      "text/plain": [
       "0    1\n",
       "1    2\n",
       "2    1\n",
       "3    2\n",
       "4    1\n",
       "5    1\n",
       "6    2\n",
       "7    1\n",
       "8    2\n",
       "9    2\n",
       "Name: TicketGrp, dtype: int64"
      ]
     },
     "execution_count": 26,
     "metadata": {},
     "output_type": "execute_result"
    }
   ],
   "source": [
    "df_combo.TicketGrp.head(10)"
   ]
  },
  {
   "cell_type": "code",
   "execution_count": 27,
   "metadata": {
    "collapsed": false,
    "scrolled": true
   },
   "outputs": [],
   "source": [
    "df_combo.drop([\"PassengerId\", \"Name\", \"Ticket\",\\\n",
    "               \"Surname\", \"Cabin\", \"Parch\", \"SibSp\"], axis=1, inplace = True)\n"
   ]
  },
  {
   "cell_type": "code",
   "execution_count": 28,
   "metadata": {
    "collapsed": false
   },
   "outputs": [
    {
     "data": {
      "text/html": [
       "<div>\n",
       "<table border=\"1\" class=\"dataframe\">\n",
       "  <thead>\n",
       "    <tr style=\"text-align: right;\">\n",
       "      <th></th>\n",
       "      <th>Pclass</th>\n",
       "      <th>Sex</th>\n",
       "      <th>Age</th>\n",
       "      <th>Fare</th>\n",
       "      <th>Embarked</th>\n",
       "      <th>Title</th>\n",
       "      <th>Fam</th>\n",
       "      <th>Deck</th>\n",
       "      <th>TicketGrp</th>\n",
       "    </tr>\n",
       "  </thead>\n",
       "  <tbody>\n",
       "    <tr>\n",
       "      <th>0</th>\n",
       "      <td>3</td>\n",
       "      <td>male</td>\n",
       "      <td>22.0</td>\n",
       "      <td>7.2500</td>\n",
       "      <td>S</td>\n",
       "      <td>Mr</td>\n",
       "      <td>2</td>\n",
       "      <td>U</td>\n",
       "      <td>1</td>\n",
       "    </tr>\n",
       "    <tr>\n",
       "      <th>1</th>\n",
       "      <td>1</td>\n",
       "      <td>female</td>\n",
       "      <td>38.0</td>\n",
       "      <td>71.2833</td>\n",
       "      <td>C</td>\n",
       "      <td>Mrs</td>\n",
       "      <td>2</td>\n",
       "      <td>C</td>\n",
       "      <td>2</td>\n",
       "    </tr>\n",
       "    <tr>\n",
       "      <th>2</th>\n",
       "      <td>3</td>\n",
       "      <td>female</td>\n",
       "      <td>26.0</td>\n",
       "      <td>7.9250</td>\n",
       "      <td>S</td>\n",
       "      <td>Miss</td>\n",
       "      <td>1</td>\n",
       "      <td>U</td>\n",
       "      <td>1</td>\n",
       "    </tr>\n",
       "    <tr>\n",
       "      <th>3</th>\n",
       "      <td>1</td>\n",
       "      <td>female</td>\n",
       "      <td>35.0</td>\n",
       "      <td>53.1000</td>\n",
       "      <td>S</td>\n",
       "      <td>Mrs</td>\n",
       "      <td>2</td>\n",
       "      <td>C</td>\n",
       "      <td>2</td>\n",
       "    </tr>\n",
       "    <tr>\n",
       "      <th>4</th>\n",
       "      <td>3</td>\n",
       "      <td>male</td>\n",
       "      <td>35.0</td>\n",
       "      <td>8.0500</td>\n",
       "      <td>S</td>\n",
       "      <td>Mr</td>\n",
       "      <td>1</td>\n",
       "      <td>U</td>\n",
       "      <td>1</td>\n",
       "    </tr>\n",
       "  </tbody>\n",
       "</table>\n",
       "</div>"
      ],
      "text/plain": [
       "   Pclass     Sex   Age     Fare Embarked Title  Fam Deck  TicketGrp\n",
       "0       3    male  22.0   7.2500        S    Mr    2    U          1\n",
       "1       1  female  38.0  71.2833        C   Mrs    2    C          2\n",
       "2       3  female  26.0   7.9250        S  Miss    1    U          1\n",
       "3       1  female  35.0  53.1000        S   Mrs    2    C          2\n",
       "4       3    male  35.0   8.0500        S    Mr    1    U          1"
      ]
     },
     "execution_count": 28,
     "metadata": {},
     "output_type": "execute_result"
    }
   ],
   "source": [
    "df_combo.head()"
   ]
  },
  {
   "cell_type": "code",
   "execution_count": 29,
   "metadata": {
    "collapsed": true
   },
   "outputs": [],
   "source": [
    "mask_Age = df_combo.Age.notnull()\n",
    "Age_Sex_Title_Pclass = df_combo.loc[mask_Age, [\"Age\", \"Title\", \"Sex\", \"Pclass\"]]"
   ]
  },
  {
   "cell_type": "code",
   "execution_count": 30,
   "metadata": {
    "collapsed": false
   },
   "outputs": [
    {
     "data": {
      "text/html": [
       "<div>\n",
       "<table border=\"1\" class=\"dataframe\">\n",
       "  <thead>\n",
       "    <tr style=\"text-align: right;\">\n",
       "      <th></th>\n",
       "      <th>Age</th>\n",
       "      <th>Title</th>\n",
       "      <th>Sex</th>\n",
       "      <th>Pclass</th>\n",
       "    </tr>\n",
       "  </thead>\n",
       "  <tbody>\n",
       "    <tr>\n",
       "      <th>0</th>\n",
       "      <td>22.0</td>\n",
       "      <td>Mr</td>\n",
       "      <td>male</td>\n",
       "      <td>3</td>\n",
       "    </tr>\n",
       "    <tr>\n",
       "      <th>1</th>\n",
       "      <td>38.0</td>\n",
       "      <td>Mrs</td>\n",
       "      <td>female</td>\n",
       "      <td>1</td>\n",
       "    </tr>\n",
       "    <tr>\n",
       "      <th>2</th>\n",
       "      <td>26.0</td>\n",
       "      <td>Miss</td>\n",
       "      <td>female</td>\n",
       "      <td>3</td>\n",
       "    </tr>\n",
       "    <tr>\n",
       "      <th>3</th>\n",
       "      <td>35.0</td>\n",
       "      <td>Mrs</td>\n",
       "      <td>female</td>\n",
       "      <td>1</td>\n",
       "    </tr>\n",
       "    <tr>\n",
       "      <th>4</th>\n",
       "      <td>35.0</td>\n",
       "      <td>Mr</td>\n",
       "      <td>male</td>\n",
       "      <td>3</td>\n",
       "    </tr>\n",
       "  </tbody>\n",
       "</table>\n",
       "</div>"
      ],
      "text/plain": [
       "    Age Title     Sex  Pclass\n",
       "0  22.0    Mr    male       3\n",
       "1  38.0   Mrs  female       1\n",
       "2  26.0  Miss  female       3\n",
       "3  35.0   Mrs  female       1\n",
       "4  35.0    Mr    male       3"
      ]
     },
     "execution_count": 30,
     "metadata": {},
     "output_type": "execute_result"
    }
   ],
   "source": [
    "Age_Sex_Title_Pclass.head()"
   ]
  },
  {
   "cell_type": "code",
   "execution_count": 31,
   "metadata": {
    "collapsed": true
   },
   "outputs": [],
   "source": [
    "Filler_Ages = Age_Sex_Title_Pclass.groupby(by = [\"Title\", \"Pclass\", \"Sex\"]).median()"
   ]
  },
  {
   "cell_type": "code",
   "execution_count": 32,
   "metadata": {
    "collapsed": false
   },
   "outputs": [
    {
     "data": {
      "text/html": [
       "<div>\n",
       "<table border=\"1\" class=\"dataframe\">\n",
       "  <thead>\n",
       "    <tr style=\"text-align: right;\">\n",
       "      <th></th>\n",
       "      <th></th>\n",
       "      <th></th>\n",
       "      <th>Age</th>\n",
       "    </tr>\n",
       "    <tr>\n",
       "      <th>Title</th>\n",
       "      <th>Pclass</th>\n",
       "      <th>Sex</th>\n",
       "      <th></th>\n",
       "    </tr>\n",
       "  </thead>\n",
       "  <tbody>\n",
       "    <tr>\n",
       "      <th rowspan=\"3\" valign=\"top\">Master</th>\n",
       "      <th>1</th>\n",
       "      <th>male</th>\n",
       "      <td>6.0</td>\n",
       "    </tr>\n",
       "    <tr>\n",
       "      <th>2</th>\n",
       "      <th>male</th>\n",
       "      <td>2.0</td>\n",
       "    </tr>\n",
       "    <tr>\n",
       "      <th>3</th>\n",
       "      <th>male</th>\n",
       "      <td>6.0</td>\n",
       "    </tr>\n",
       "    <tr>\n",
       "      <th rowspan=\"3\" valign=\"top\">Miss</th>\n",
       "      <th>1</th>\n",
       "      <th>female</th>\n",
       "      <td>30.0</td>\n",
       "    </tr>\n",
       "    <tr>\n",
       "      <th>2</th>\n",
       "      <th>female</th>\n",
       "      <td>20.0</td>\n",
       "    </tr>\n",
       "    <tr>\n",
       "      <th>3</th>\n",
       "      <th>female</th>\n",
       "      <td>18.0</td>\n",
       "    </tr>\n",
       "    <tr>\n",
       "      <th rowspan=\"3\" valign=\"top\">Mr</th>\n",
       "      <th>1</th>\n",
       "      <th>male</th>\n",
       "      <td>41.5</td>\n",
       "    </tr>\n",
       "    <tr>\n",
       "      <th>2</th>\n",
       "      <th>male</th>\n",
       "      <td>30.0</td>\n",
       "    </tr>\n",
       "    <tr>\n",
       "      <th>3</th>\n",
       "      <th>male</th>\n",
       "      <td>26.0</td>\n",
       "    </tr>\n",
       "    <tr>\n",
       "      <th rowspan=\"3\" valign=\"top\">Mrs</th>\n",
       "      <th>1</th>\n",
       "      <th>female</th>\n",
       "      <td>45.0</td>\n",
       "    </tr>\n",
       "    <tr>\n",
       "      <th>2</th>\n",
       "      <th>female</th>\n",
       "      <td>30.0</td>\n",
       "    </tr>\n",
       "    <tr>\n",
       "      <th>3</th>\n",
       "      <th>female</th>\n",
       "      <td>31.0</td>\n",
       "    </tr>\n",
       "    <tr>\n",
       "      <th rowspan=\"3\" valign=\"top\">Officer</th>\n",
       "      <th rowspan=\"2\" valign=\"top\">1</th>\n",
       "      <th>female</th>\n",
       "      <td>49.0</td>\n",
       "    </tr>\n",
       "    <tr>\n",
       "      <th>male</th>\n",
       "      <td>52.0</td>\n",
       "    </tr>\n",
       "    <tr>\n",
       "      <th>2</th>\n",
       "      <th>male</th>\n",
       "      <td>41.5</td>\n",
       "    </tr>\n",
       "    <tr>\n",
       "      <th rowspan=\"2\" valign=\"top\">Royalty</th>\n",
       "      <th rowspan=\"2\" valign=\"top\">1</th>\n",
       "      <th>female</th>\n",
       "      <td>39.0</td>\n",
       "    </tr>\n",
       "    <tr>\n",
       "      <th>male</th>\n",
       "      <td>40.0</td>\n",
       "    </tr>\n",
       "  </tbody>\n",
       "</table>\n",
       "</div>"
      ],
      "text/plain": [
       "                        Age\n",
       "Title   Pclass Sex         \n",
       "Master  1      male     6.0\n",
       "        2      male     2.0\n",
       "        3      male     6.0\n",
       "Miss    1      female  30.0\n",
       "        2      female  20.0\n",
       "        3      female  18.0\n",
       "Mr      1      male    41.5\n",
       "        2      male    30.0\n",
       "        3      male    26.0\n",
       "Mrs     1      female  45.0\n",
       "        2      female  30.0\n",
       "        3      female  31.0\n",
       "Officer 1      female  49.0\n",
       "               male    52.0\n",
       "        2      male    41.5\n",
       "Royalty 1      female  39.0\n",
       "               male    40.0"
      ]
     },
     "execution_count": 32,
     "metadata": {},
     "output_type": "execute_result"
    }
   ],
   "source": [
    "Filler_Ages"
   ]
  },
  {
   "cell_type": "code",
   "execution_count": 33,
   "metadata": {
    "collapsed": false
   },
   "outputs": [
    {
     "data": {
      "text/html": [
       "<div>\n",
       "<table border=\"1\" class=\"dataframe\">\n",
       "  <thead>\n",
       "    <tr>\n",
       "      <th>Sex</th>\n",
       "      <th colspan=\"3\" halign=\"left\">female</th>\n",
       "      <th colspan=\"3\" halign=\"left\">male</th>\n",
       "    </tr>\n",
       "    <tr>\n",
       "      <th>Pclass</th>\n",
       "      <th>1</th>\n",
       "      <th>2</th>\n",
       "      <th>3</th>\n",
       "      <th>1</th>\n",
       "      <th>2</th>\n",
       "      <th>3</th>\n",
       "    </tr>\n",
       "    <tr>\n",
       "      <th>Title</th>\n",
       "      <th></th>\n",
       "      <th></th>\n",
       "      <th></th>\n",
       "      <th></th>\n",
       "      <th></th>\n",
       "      <th></th>\n",
       "    </tr>\n",
       "  </thead>\n",
       "  <tbody>\n",
       "    <tr>\n",
       "      <th>Master</th>\n",
       "      <td>NaN</td>\n",
       "      <td>NaN</td>\n",
       "      <td>NaN</td>\n",
       "      <td>6.0</td>\n",
       "      <td>2.0</td>\n",
       "      <td>6.0</td>\n",
       "    </tr>\n",
       "    <tr>\n",
       "      <th>Miss</th>\n",
       "      <td>30.0</td>\n",
       "      <td>20.0</td>\n",
       "      <td>18.0</td>\n",
       "      <td>NaN</td>\n",
       "      <td>NaN</td>\n",
       "      <td>NaN</td>\n",
       "    </tr>\n",
       "    <tr>\n",
       "      <th>Mr</th>\n",
       "      <td>NaN</td>\n",
       "      <td>NaN</td>\n",
       "      <td>NaN</td>\n",
       "      <td>41.5</td>\n",
       "      <td>30.0</td>\n",
       "      <td>26.0</td>\n",
       "    </tr>\n",
       "    <tr>\n",
       "      <th>Mrs</th>\n",
       "      <td>45.0</td>\n",
       "      <td>30.0</td>\n",
       "      <td>31.0</td>\n",
       "      <td>NaN</td>\n",
       "      <td>NaN</td>\n",
       "      <td>NaN</td>\n",
       "    </tr>\n",
       "    <tr>\n",
       "      <th>Officer</th>\n",
       "      <td>49.0</td>\n",
       "      <td>NaN</td>\n",
       "      <td>NaN</td>\n",
       "      <td>52.0</td>\n",
       "      <td>41.5</td>\n",
       "      <td>NaN</td>\n",
       "    </tr>\n",
       "    <tr>\n",
       "      <th>Royalty</th>\n",
       "      <td>39.0</td>\n",
       "      <td>NaN</td>\n",
       "      <td>NaN</td>\n",
       "      <td>40.0</td>\n",
       "      <td>NaN</td>\n",
       "      <td>NaN</td>\n",
       "    </tr>\n",
       "  </tbody>\n",
       "</table>\n",
       "</div>"
      ],
      "text/plain": [
       "Sex     female              male            \n",
       "Pclass       1     2     3     1     2     3\n",
       "Title                                       \n",
       "Master     NaN   NaN   NaN   6.0   2.0   6.0\n",
       "Miss      30.0  20.0  18.0   NaN   NaN   NaN\n",
       "Mr         NaN   NaN   NaN  41.5  30.0  26.0\n",
       "Mrs       45.0  30.0  31.0   NaN   NaN   NaN\n",
       "Officer   49.0   NaN   NaN  52.0  41.5   NaN\n",
       "Royalty   39.0   NaN   NaN  40.0   NaN   NaN"
      ]
     },
     "execution_count": 33,
     "metadata": {},
     "output_type": "execute_result"
    }
   ],
   "source": [
    "Filler_Ages = Filler_Ages.Age.unstack(level = -1).unstack(level = -1)\n",
    "\n",
    "Filler_Ages"
   ]
  },
  {
   "cell_type": "code",
   "execution_count": 34,
   "metadata": {
    "collapsed": true
   },
   "outputs": [],
   "source": [
    "mask_Age = df_combo.Age.isnull()\n",
    "Age_Sex_Title_Pclass_missing = df_combo.loc[mask_Age, [\"Title\", \"Sex\", \"Pclass\"]]\n",
    "\n",
    "def Age_filler(row):\n",
    "    if row.Sex == \"female\":\n",
    "        age = Filler_Ages.female.loc[row[\"Title\"], row[\"Pclass\"]]\n",
    "        return age\n",
    "    \n",
    "    elif row.Sex == \"male\":\n",
    "        age = Filler_Ages.male.loc[row[\"Title\"], row[\"Pclass\"]]\n",
    "        return age\n",
    "    "
   ]
  },
  {
   "cell_type": "code",
   "execution_count": 35,
   "metadata": {
    "collapsed": false
   },
   "outputs": [],
   "source": [
    "Age_Sex_Title_Pclass_missing[\"Age\"]  = Age_Sex_Title_Pclass_missing.apply(Age_filler, axis = 1)   "
   ]
  },
  {
   "cell_type": "code",
   "execution_count": 37,
   "metadata": {
    "collapsed": true
   },
   "outputs": [],
   "source": [
    "df_combo[\"Age\"] = pd.concat([Age_Sex_Title_Pclass[\"Age\"], Age_Sex_Title_Pclass_missing[\"Age\"]])    \n"
   ]
  },
  {
   "cell_type": "code",
   "execution_count": 38,
   "metadata": {
    "collapsed": false
   },
   "outputs": [],
   "source": [
    "df_combo.fillna(df_combo[(df_combo.Embarked == \"S\") & (df_combo.Pclass == 3)].Fare.median(), inplace = True)\n"
   ]
  },
  {
   "cell_type": "code",
   "execution_count": 39,
   "metadata": {
    "collapsed": false
   },
   "outputs": [],
   "source": [
    "#df_combo[[\"Fare\",\"Age\"]]"
   ]
  },
  {
   "cell_type": "code",
   "execution_count": 40,
   "metadata": {
    "collapsed": false
   },
   "outputs": [
    {
     "data": {
      "text/html": [
       "<div>\n",
       "<table border=\"1\" class=\"dataframe\">\n",
       "  <thead>\n",
       "    <tr style=\"text-align: right;\">\n",
       "      <th></th>\n",
       "      <th>Pclass</th>\n",
       "      <th>Age</th>\n",
       "      <th>Fare</th>\n",
       "      <th>Fam</th>\n",
       "      <th>TicketGrp</th>\n",
       "      <th>Sex_female</th>\n",
       "      <th>Sex_male</th>\n",
       "      <th>Embarked_C</th>\n",
       "      <th>Embarked_Q</th>\n",
       "      <th>Embarked_S</th>\n",
       "      <th>...</th>\n",
       "      <th>Title_Royalty</th>\n",
       "      <th>Deck_A</th>\n",
       "      <th>Deck_B</th>\n",
       "      <th>Deck_C</th>\n",
       "      <th>Deck_D</th>\n",
       "      <th>Deck_E</th>\n",
       "      <th>Deck_F</th>\n",
       "      <th>Deck_G</th>\n",
       "      <th>Deck_T</th>\n",
       "      <th>Deck_U</th>\n",
       "    </tr>\n",
       "  </thead>\n",
       "  <tbody>\n",
       "    <tr>\n",
       "      <th>0</th>\n",
       "      <td>3</td>\n",
       "      <td>22.0</td>\n",
       "      <td>7.2500</td>\n",
       "      <td>2</td>\n",
       "      <td>1</td>\n",
       "      <td>0.0</td>\n",
       "      <td>1.0</td>\n",
       "      <td>0.0</td>\n",
       "      <td>0.0</td>\n",
       "      <td>1.0</td>\n",
       "      <td>...</td>\n",
       "      <td>0.0</td>\n",
       "      <td>0.0</td>\n",
       "      <td>0.0</td>\n",
       "      <td>0.0</td>\n",
       "      <td>0.0</td>\n",
       "      <td>0.0</td>\n",
       "      <td>0.0</td>\n",
       "      <td>0.0</td>\n",
       "      <td>0.0</td>\n",
       "      <td>1.0</td>\n",
       "    </tr>\n",
       "    <tr>\n",
       "      <th>1</th>\n",
       "      <td>1</td>\n",
       "      <td>38.0</td>\n",
       "      <td>71.2833</td>\n",
       "      <td>2</td>\n",
       "      <td>2</td>\n",
       "      <td>1.0</td>\n",
       "      <td>0.0</td>\n",
       "      <td>1.0</td>\n",
       "      <td>0.0</td>\n",
       "      <td>0.0</td>\n",
       "      <td>...</td>\n",
       "      <td>0.0</td>\n",
       "      <td>0.0</td>\n",
       "      <td>0.0</td>\n",
       "      <td>1.0</td>\n",
       "      <td>0.0</td>\n",
       "      <td>0.0</td>\n",
       "      <td>0.0</td>\n",
       "      <td>0.0</td>\n",
       "      <td>0.0</td>\n",
       "      <td>0.0</td>\n",
       "    </tr>\n",
       "    <tr>\n",
       "      <th>2</th>\n",
       "      <td>3</td>\n",
       "      <td>26.0</td>\n",
       "      <td>7.9250</td>\n",
       "      <td>1</td>\n",
       "      <td>1</td>\n",
       "      <td>1.0</td>\n",
       "      <td>0.0</td>\n",
       "      <td>0.0</td>\n",
       "      <td>0.0</td>\n",
       "      <td>1.0</td>\n",
       "      <td>...</td>\n",
       "      <td>0.0</td>\n",
       "      <td>0.0</td>\n",
       "      <td>0.0</td>\n",
       "      <td>0.0</td>\n",
       "      <td>0.0</td>\n",
       "      <td>0.0</td>\n",
       "      <td>0.0</td>\n",
       "      <td>0.0</td>\n",
       "      <td>0.0</td>\n",
       "      <td>1.0</td>\n",
       "    </tr>\n",
       "    <tr>\n",
       "      <th>3</th>\n",
       "      <td>1</td>\n",
       "      <td>35.0</td>\n",
       "      <td>53.1000</td>\n",
       "      <td>2</td>\n",
       "      <td>2</td>\n",
       "      <td>1.0</td>\n",
       "      <td>0.0</td>\n",
       "      <td>0.0</td>\n",
       "      <td>0.0</td>\n",
       "      <td>1.0</td>\n",
       "      <td>...</td>\n",
       "      <td>0.0</td>\n",
       "      <td>0.0</td>\n",
       "      <td>0.0</td>\n",
       "      <td>1.0</td>\n",
       "      <td>0.0</td>\n",
       "      <td>0.0</td>\n",
       "      <td>0.0</td>\n",
       "      <td>0.0</td>\n",
       "      <td>0.0</td>\n",
       "      <td>0.0</td>\n",
       "    </tr>\n",
       "    <tr>\n",
       "      <th>4</th>\n",
       "      <td>3</td>\n",
       "      <td>35.0</td>\n",
       "      <td>8.0500</td>\n",
       "      <td>1</td>\n",
       "      <td>1</td>\n",
       "      <td>0.0</td>\n",
       "      <td>1.0</td>\n",
       "      <td>0.0</td>\n",
       "      <td>0.0</td>\n",
       "      <td>1.0</td>\n",
       "      <td>...</td>\n",
       "      <td>0.0</td>\n",
       "      <td>0.0</td>\n",
       "      <td>0.0</td>\n",
       "      <td>0.0</td>\n",
       "      <td>0.0</td>\n",
       "      <td>0.0</td>\n",
       "      <td>0.0</td>\n",
       "      <td>0.0</td>\n",
       "      <td>0.0</td>\n",
       "      <td>1.0</td>\n",
       "    </tr>\n",
       "  </tbody>\n",
       "</table>\n",
       "<p>5 rows × 25 columns</p>\n",
       "</div>"
      ],
      "text/plain": [
       "   Pclass   Age     Fare  Fam  TicketGrp  Sex_female  Sex_male  Embarked_C  \\\n",
       "0       3  22.0   7.2500    2          1         0.0       1.0         0.0   \n",
       "1       1  38.0  71.2833    2          2         1.0       0.0         1.0   \n",
       "2       3  26.0   7.9250    1          1         1.0       0.0         0.0   \n",
       "3       1  35.0  53.1000    2          2         1.0       0.0         0.0   \n",
       "4       3  35.0   8.0500    1          1         0.0       1.0         0.0   \n",
       "\n",
       "   Embarked_Q  Embarked_S   ...    Title_Royalty  Deck_A  Deck_B  Deck_C  \\\n",
       "0         0.0         1.0   ...              0.0     0.0     0.0     0.0   \n",
       "1         0.0         0.0   ...              0.0     0.0     0.0     1.0   \n",
       "2         0.0         1.0   ...              0.0     0.0     0.0     0.0   \n",
       "3         0.0         1.0   ...              0.0     0.0     0.0     1.0   \n",
       "4         0.0         1.0   ...              0.0     0.0     0.0     0.0   \n",
       "\n",
       "   Deck_D  Deck_E  Deck_F  Deck_G  Deck_T  Deck_U  \n",
       "0     0.0     0.0     0.0     0.0     0.0     1.0  \n",
       "1     0.0     0.0     0.0     0.0     0.0     0.0  \n",
       "2     0.0     0.0     0.0     0.0     0.0     1.0  \n",
       "3     0.0     0.0     0.0     0.0     0.0     0.0  \n",
       "4     0.0     0.0     0.0     0.0     0.0     1.0  \n",
       "\n",
       "[5 rows x 25 columns]"
      ]
     },
     "execution_count": 40,
     "metadata": {},
     "output_type": "execute_result"
    }
   ],
   "source": [
    "#### OHE encoding nominal categorical features ###\n",
    "df_combo = pd.get_dummies(df_combo)\n",
    "df_combo.head()"
   ]
  },
  {
   "cell_type": "code",
   "execution_count": 41,
   "metadata": {
    "collapsed": true
   },
   "outputs": [],
   "source": [
    "df_train = df_combo.loc[0:len(train[\"Survived\"])-1]\n",
    "df_test = df_combo.loc[len(train[\"Survived\"]):]\n",
    "total_number_param = len(df_train.columns)\n",
    "df_target = train.Survived"
   ]
  },
  {
   "cell_type": "code",
   "execution_count": null,
   "metadata": {
    "collapsed": true
   },
   "outputs": [],
   "source": []
  },
  {
   "cell_type": "code",
   "execution_count": 42,
   "metadata": {
    "collapsed": true
   },
   "outputs": [],
   "source": [
    "cv=StratifiedKFold(df_target.values,n_folds=10)\n",
    "select = SelectKBest(k = 20)"
   ]
  },
  {
   "cell_type": "code",
   "execution_count": null,
   "metadata": {
    "collapsed": false
   },
   "outputs": [],
   "source": [
    "#scaler = StandardScaler()\n",
    "#scaler.fit(df_combo[[\"Fare\",\"Age\"]])\n",
    "\n",
    "#train_data_scaled = scaler.transform(train_data_munged[predictors])\n",
    "#test_data_scaled = scaler.transform(test_data_munged[predictors])"
   ]
  },
  {
   "cell_type": "markdown",
   "metadata": {},
   "source": [
    "# Logistic Regression"
   ]
  },
  {
   "cell_type": "code",
   "execution_count": 43,
   "metadata": {
    "collapsed": true
   },
   "outputs": [],
   "source": [
    "LogR = LogisticRegression(random_state=10)\n",
    "#cv_score_LR = cross_val_score(LogR, df_train, df_target, cv=cv, n_jobs=-1,\n",
    "#                         scoring=linear_scorer)\n",
    "\n",
    "\n",
    "\n",
    "#print(\"Accuracy (logistic regression): {}/{}\".format(scores.mean(), scores.std()))"
   ]
  },
  {
   "cell_type": "code",
   "execution_count": 44,
   "metadata": {
    "collapsed": false
   },
   "outputs": [
    {
     "data": {
      "text/plain": [
       "LogisticRegression(C=1.0, class_weight=None, dual=False, fit_intercept=True,\n",
       "          intercept_scaling=1, max_iter=100, multi_class='ovr', n_jobs=1,\n",
       "          penalty='l2', random_state=10, solver='liblinear', tol=0.0001,\n",
       "          verbose=0, warm_start=False)"
      ]
     },
     "execution_count": 44,
     "metadata": {},
     "output_type": "execute_result"
    }
   ],
   "source": [
    "LogR\n"
   ]
  },
  {
   "cell_type": "code",
   "execution_count": 45,
   "metadata": {
    "collapsed": false,
    "scrolled": false
   },
   "outputs": [
    {
     "name": "stdout",
     "output_type": "stream",
     "text": [
      "Fitting 10 folds for each of 9 candidates, totalling 90 fits\n",
      "[CV] intercept_scaling=1, max_iter=100 ...............................\n",
      "[CV] intercept_scaling=1, max_iter=100 ...............................\n",
      "[CV] intercept_scaling=1, max_iter=100 ...............................\n",
      "[CV] intercept_scaling=1, max_iter=100 ...............................\n",
      "[CV] intercept_scaling=1, max_iter=100 ...............................\n",
      "[CV] intercept_scaling=1, max_iter=100 ...............................\n",
      "[CV] intercept_scaling=1, max_iter=100 ...............................\n",
      "[CV] intercept_scaling=1, max_iter=100 ...............................\n",
      "[CV] ...... intercept_scaling=1, max_iter=100, score=0.755556 -   0.1s\n",
      "[CV] ...... intercept_scaling=1, max_iter=100, score=0.820225 -   0.1s\n",
      "[CV] ...... intercept_scaling=1, max_iter=100, score=0.831461 -   0.1s\n",
      "[CV] ...... intercept_scaling=1, max_iter=100, score=0.786517 -   0.1s\n",
      "[CV] ...... intercept_scaling=1, max_iter=100, score=0.788889 -   0.1s\n",
      "[CV] intercept_scaling=1, max_iter=100 ...............................\n",
      "[CV] ...... intercept_scaling=1, max_iter=100, score=0.865169 -   0.1s\n",
      "[CV] ...... intercept_scaling=1, max_iter=100, score=0.764045 -   0.1s\n",
      "[CV] intercept_scaling=1, max_iter=100 ...............................\n",
      "[CV] ...... intercept_scaling=1, max_iter=100, score=0.786517 -   0.1s\n",
      "[CV] intercept_scaling=1, max_iter=200 ...............................\n",
      "[CV] intercept_scaling=1, max_iter=200 ...............................\n",
      "[CV] intercept_scaling=1, max_iter=200 ...............................\n",
      "[CV] ...... intercept_scaling=1, max_iter=100, score=0.853933 -   0.0s\n",
      "[CV] ...... intercept_scaling=1, max_iter=200, score=0.788889 -   0.0s\n",
      "[CV] intercept_scaling=1, max_iter=200 ...............................\n",
      "[CV] ...... intercept_scaling=1, max_iter=100, score=0.829545 -   0.0s\n",
      "[CV] ...... intercept_scaling=1, max_iter=200, score=0.786517 -   0.0s\n",
      "[CV] intercept_scaling=1, max_iter=200 ...............................\n",
      "[CV] ...... intercept_scaling=1, max_iter=200, score=0.755556 -   0.0s\n",
      "[CV] intercept_scaling=1, max_iter=200 ...............................\n",
      "[CV] intercept_scaling=1, max_iter=200 ...............................\n",
      "[CV] intercept_scaling=1, max_iter=200 ...............................\n",
      "[CV] intercept_scaling=1, max_iter=300 ...............................\n",
      "[CV] ...... intercept_scaling=1, max_iter=200, score=0.786517 -   0.0s\n",
      "[CV] intercept_scaling=1, max_iter=300 ...............................\n",
      "[CV] ...... intercept_scaling=1, max_iter=200, score=0.865169 -   0.0s\n",
      "[CV] ...... intercept_scaling=1, max_iter=200, score=0.831461 -   0.0s\n",
      "[CV] intercept_scaling=1, max_iter=300 ...............................\n",
      "[CV] ...... intercept_scaling=1, max_iter=200, score=0.820225 -   0.0s\n",
      "[CV] intercept_scaling=1, max_iter=200 ...............................\n",
      "[CV] intercept_scaling=2, max_iter=100 ...............................\n",
      "[CV] intercept_scaling=1, max_iter=300 ...............................\n",
      "[CV] intercept_scaling=1, max_iter=300 ...............................\n",
      "[CV] ...... intercept_scaling=1, max_iter=300, score=0.755556 -   0.0s\n",
      "[CV] ...... intercept_scaling=1, max_iter=200, score=0.853933 -   0.0s\n",
      "[CV] ...... intercept_scaling=1, max_iter=300, score=0.831461 -   0.0s\n",
      "[CV] intercept_scaling=1, max_iter=200 ...............................\n",
      "[CV] intercept_scaling=1, max_iter=300 ...............................\n",
      "[CV] ...... intercept_scaling=1, max_iter=300, score=0.786517 -   0.0s\n",
      "[CV] ...... intercept_scaling=1, max_iter=200, score=0.764045 -   0.0s\n",
      "[CV] intercept_scaling=1, max_iter=300 ...............................\n",
      "[CV] ...... intercept_scaling=1, max_iter=300, score=0.786517 -   0.0s\n",
      "[CV] ...... intercept_scaling=2, max_iter=100, score=0.755556 -   0.0s\n",
      "[CV] ...... intercept_scaling=1, max_iter=300, score=0.853933 -   0.0s\n",
      "[CV] intercept_scaling=1, max_iter=300 ...............................\n",
      "[CV] intercept_scaling=2, max_iter=100 ...............................\n",
      "[CV] intercept_scaling=1, max_iter=300 ...............................\n",
      "[CV] intercept_scaling=2, max_iter=100 ...............................\n",
      "[CV] intercept_scaling=1, max_iter=300 ...............................\n",
      "[CV] ...... intercept_scaling=1, max_iter=200, score=0.829545 -   0.0s\n",
      "[CV] ...... intercept_scaling=1, max_iter=300, score=0.788889 -   0.0s\n",
      "[CV] ...... intercept_scaling=1, max_iter=300, score=0.865169 -   0.0s\n",
      "[CV] ...... intercept_scaling=2, max_iter=100, score=0.788889 -   0.0s\n",
      "[CV] ...... intercept_scaling=1, max_iter=300, score=0.829545 -   0.0s\n",
      "[CV] ...... intercept_scaling=1, max_iter=300, score=0.820225 -   0.0s\n",
      "[CV] ...... intercept_scaling=2, max_iter=100, score=0.775281 -   0.0s\n",
      "[CV] ...... intercept_scaling=1, max_iter=300, score=0.764045 -   0.0s\n",
      "[CV] intercept_scaling=2, max_iter=100 ...............................\n",
      "[CV] intercept_scaling=2, max_iter=100 ...............................\n",
      "[CV] intercept_scaling=2, max_iter=100 ...............................\n",
      "[CV] intercept_scaling=2, max_iter=100 ...............................\n",
      "[CV] intercept_scaling=2, max_iter=200 ...............................\n",
      "[CV] intercept_scaling=2, max_iter=200 ...............................\n",
      "[CV] ...... intercept_scaling=2, max_iter=100, score=0.853933 -   0.0s\n",
      "[CV] ...... intercept_scaling=2, max_iter=100, score=0.865169 -   0.0s\n",
      "[CV] intercept_scaling=2, max_iter=200 ...............................\n",
      "[CV] intercept_scaling=2, max_iter=200 ...............................\n",
      "[CV] ...... intercept_scaling=2, max_iter=100, score=0.797753 -   0.0s\n",
      "[CV] intercept_scaling=2, max_iter=200 ...............................\n",
      "[CV] ...... intercept_scaling=2, max_iter=100, score=0.820225 -   0.0s\n",
      "[CV] intercept_scaling=2, max_iter=100 ...............................\n",
      "[CV] ...... intercept_scaling=2, max_iter=200, score=0.755556 -   0.0s\n",
      "[CV] intercept_scaling=2, max_iter=100 ...............................\n",
      "[CV] ...... intercept_scaling=2, max_iter=200, score=0.775281 -   0.0s\n",
      "[CV] intercept_scaling=2, max_iter=100 ...............................\n",
      "[CV] ...... intercept_scaling=2, max_iter=200, score=0.797753 -   0.0s\n",
      "[CV] ...... intercept_scaling=2, max_iter=200, score=0.820225 -   0.0s\n",
      "[CV] intercept_scaling=2, max_iter=200 ...............................\n",
      "[CV] intercept_scaling=2, max_iter=200 ...............................\n",
      "[CV] ...... intercept_scaling=2, max_iter=200, score=0.853933 -   0.0s\n",
      "[CV] intercept_scaling=2, max_iter=200 ...............................\n",
      "[CV] intercept_scaling=2, max_iter=200 ...............................\n",
      "[CV] ...... intercept_scaling=2, max_iter=100, score=0.820225 -   0.0s\n",
      "[CV] ...... intercept_scaling=2, max_iter=100, score=0.818182 -   0.0s\n",
      "[CV] ...... intercept_scaling=2, max_iter=200, score=0.865169 -   0.0s\n",
      "[CV] ...... intercept_scaling=2, max_iter=100, score=0.775281 -   0.0s\n",
      "[CV] intercept_scaling=2, max_iter=200 ...............................\n",
      "[CV] ...... intercept_scaling=2, max_iter=200, score=0.788889 -   0.0s\n",
      "[CV] intercept_scaling=2, max_iter=300 ...............................\n",
      "[CV] ...... intercept_scaling=2, max_iter=200, score=0.775281 -   0.0s\n",
      "[CV] ...... intercept_scaling=2, max_iter=200, score=0.820225 -   0.0s\n",
      "[CV] intercept_scaling=3, max_iter=100 ...............................\n",
      "[CV] intercept_scaling=3, max_iter=200 ...............................\n",
      "[CV] ...... intercept_scaling=2, max_iter=200, score=0.818182 -   0.0s\n",
      "[CV] intercept_scaling=3, max_iter=300 ...............................\n",
      "[CV] intercept_scaling=2, max_iter=300 ...............................\n",
      "[CV] ...... intercept_scaling=2, max_iter=300, score=0.853933 -   0.0s\n",
      "[CV] ...... intercept_scaling=3, max_iter=100, score=0.865169 -   0.0s\n",
      "[CV] intercept_scaling=2, max_iter=300 ...............................\n",
      "[CV] intercept_scaling=3, max_iter=100 ...............................\n",
      "[CV] ...... intercept_scaling=3, max_iter=200, score=0.865169 -   0.0s\n",
      "[CV] intercept_scaling=3, max_iter=200 ...............................\n",
      "[CV] ...... intercept_scaling=3, max_iter=300, score=0.865169 -   0.0s\n",
      "[CV] ...... intercept_scaling=2, max_iter=300, score=0.755556 -   0.0s\n",
      "[CV] intercept_scaling=3, max_iter=300 ...............................\n",
      "[CV] intercept_scaling=2, max_iter=300 ...............................\n",
      "[CV] ...... intercept_scaling=2, max_iter=300, score=0.818182 -   0.0s\n",
      "[CV] ...... intercept_scaling=3, max_iter=100, score=0.818182 -   0.0s\n",
      "[CV] intercept_scaling=3, max_iter=100 ...............................\n",
      "[CV] intercept_scaling=3, max_iter=200 ...............................\n",
      "[CV] ...... intercept_scaling=3, max_iter=200, score=0.818182 -   0.0s\n",
      "[CV] ...... intercept_scaling=2, max_iter=300, score=0.788889 -   0.0s\n",
      "[CV] intercept_scaling=3, max_iter=300 ...............................\n",
      "[CV] ...... intercept_scaling=3, max_iter=300, score=0.818182 -   0.0s\n",
      "[CV] intercept_scaling=2, max_iter=300 ...............................\n",
      "[CV] ...... intercept_scaling=3, max_iter=200, score=0.755556 -   0.0s\n",
      "[CV] ...... intercept_scaling=3, max_iter=100, score=0.755556 -   0.0s\n",
      "[CV] intercept_scaling=3, max_iter=100 ...............................\n",
      "[CV] intercept_scaling=3, max_iter=200 ...............................\n",
      "[CV] ...... intercept_scaling=3, max_iter=300, score=0.755556 -   0.0s\n",
      "[CV] intercept_scaling=3, max_iter=300 ...............................\n",
      "[CV] ...... intercept_scaling=2, max_iter=300, score=0.775281 -   0.0s\n",
      "[CV] intercept_scaling=2, max_iter=300 ...............................\n",
      "[CV] ...... intercept_scaling=3, max_iter=100, score=0.788889 -   0.0s\n",
      "[CV] ...... intercept_scaling=3, max_iter=200, score=0.788889 -   0.0s\n",
      "[CV] intercept_scaling=3, max_iter=100 ...............................\n",
      "[CV] intercept_scaling=3, max_iter=200 ...............................\n",
      "[CV] ...... intercept_scaling=3, max_iter=300, score=0.788889 -   0.0s\n",
      "[CV] intercept_scaling=3, max_iter=300 ...............................\n",
      "[CV] ...... intercept_scaling=2, max_iter=300, score=0.865169 -   0.0s\n",
      "[CV] intercept_scaling=2, max_iter=300 ...............................\n",
      "[CV] ...... intercept_scaling=3, max_iter=100, score=0.775281 -   0.0s\n",
      "[CV] ...... intercept_scaling=3, max_iter=200, score=0.775281 -   0.0s\n",
      "[CV] intercept_scaling=3, max_iter=100 ...............................\n",
      "[CV] intercept_scaling=3, max_iter=200 ...............................\n",
      "[CV] ...... intercept_scaling=3, max_iter=300, score=0.775281 -   0.0s\n",
      "[CV] ...... intercept_scaling=2, max_iter=300, score=0.820225 -   0.0s\n",
      "[CV] intercept_scaling=3, max_iter=300 ...............................\n",
      "[CV] intercept_scaling=2, max_iter=300 ...............................\n",
      "[CV] ...... intercept_scaling=3, max_iter=100, score=0.865169 -   0.0s\n",
      "[CV] ...... intercept_scaling=3, max_iter=200, score=0.865169 -   0.0s\n",
      "[CV] intercept_scaling=3, max_iter=100 ...............................\n",
      "[CV] intercept_scaling=3, max_iter=200 ...............................\n",
      "[CV] ...... intercept_scaling=3, max_iter=300, score=0.865169 -   0.0s\n",
      "[CV] ...... intercept_scaling=2, max_iter=300, score=0.820225 -   0.0s\n",
      "[CV] intercept_scaling=3, max_iter=300 ...............................\n",
      "[CV] ...... intercept_scaling=3, max_iter=200, score=0.820225 -   0.0s\n",
      "[CV] ...... intercept_scaling=3, max_iter=100, score=0.820225 -   0.0s\n",
      "[CV] intercept_scaling=2, max_iter=300 ...............................\n",
      "[CV] intercept_scaling=3, max_iter=200 ...............................\n",
      "[CV] intercept_scaling=3, max_iter=100 ...............................\n",
      "[CV] ...... intercept_scaling=3, max_iter=200, score=0.820225 -   0.0s\n",
      "[CV] ...... intercept_scaling=2, max_iter=300, score=0.797753 -   0.0s\n",
      "[CV] ...... intercept_scaling=3, max_iter=100, score=0.820225 -   0.0s\n",
      "[CV] ...... intercept_scaling=3, max_iter=300, score=0.820225 -   0.0s\n",
      "[CV] intercept_scaling=2, max_iter=300 ...............................\n",
      "[CV] intercept_scaling=3, max_iter=200 ...............................\n",
      "[CV] intercept_scaling=3, max_iter=300 ...............................\n",
      "[CV] intercept_scaling=3, max_iter=100 ...............................\n",
      "[CV] ...... intercept_scaling=2, max_iter=300, score=0.775281 -   0.0s\n",
      "[CV] ...... intercept_scaling=3, max_iter=300, score=0.820225 -   0.0s\n",
      "[CV] ...... intercept_scaling=3, max_iter=200, score=0.797753 -   0.0s\n",
      "[CV] intercept_scaling=3, max_iter=300 ...............................\n",
      "[CV] ...... intercept_scaling=3, max_iter=100, score=0.797753 -   0.0s\n",
      "[CV] intercept_scaling=3, max_iter=200 ...............................\n",
      "[CV] intercept_scaling=3, max_iter=100 ...............................\n",
      "[CV] ...... intercept_scaling=3, max_iter=300, score=0.797753 -   0.0s\n",
      "[CV] ...... intercept_scaling=3, max_iter=200, score=0.775281 -   0.0s\n",
      "[CV] intercept_scaling=3, max_iter=300 ...............................\n",
      "[CV] ...... intercept_scaling=3, max_iter=100, score=0.775281 -   0.0s\n",
      "[CV] ...... intercept_scaling=3, max_iter=300, score=0.775281 -   0.0s\n"
     ]
    },
    {
     "name": "stderr",
     "output_type": "stream",
     "text": [
      "[Parallel(n_jobs=-1)]: Batch computation too fast (0.1313s.) Setting batch_size=2.\n",
      "[Parallel(n_jobs=-1)]: Done   2 tasks      | elapsed:    0.1s\n",
      "[Parallel(n_jobs=-1)]: Done   9 tasks      | elapsed:    0.2s\n",
      "[Parallel(n_jobs=-1)]: Done  16 tasks      | elapsed:    0.2s\n",
      "[Parallel(n_jobs=-1)]: Batch computation too fast (0.0670s.) Setting batch_size=10.\n",
      "[Parallel(n_jobs=-1)]: Done  90 out of  90 | elapsed:    0.3s finished\n"
     ]
    }
   ],
   "source": [
    "LogR_model = LogisticRegression(random_state=10,warm_start=True)\n",
    "params = [{\n",
    "    #\"C\": [1.0,2.0,3.0],\n",
    "    \"intercept_scaling\": [1,2,3],\n",
    "    #\"min_samples_split\": [2],\n",
    "    #\"min_samples_leaf\": [1,2,3],\n",
    "    \"max_iter\":[100,200,300] \n",
    "}]\n",
    "grid_search= GridSearchCV(LogR_model, params, cv=cv, refit=True, verbose=10, n_jobs=-1)\n",
    "grid_search.fit(df_train.values,df_target.values)\n",
    "RF_best = grid_search.best_estimator_"
   ]
  },
  {
   "cell_type": "code",
   "execution_count": 46,
   "metadata": {
    "collapsed": false
   },
   "outputs": [
    {
     "data": {
      "text/plain": [
       "{'intercept_scaling': 1, 'max_iter': 100}"
      ]
     },
     "execution_count": 46,
     "metadata": {},
     "output_type": "execute_result"
    }
   ],
   "source": [
    "grid_search.best_params_"
   ]
  },
  {
   "cell_type": "code",
   "execution_count": 47,
   "metadata": {
    "collapsed": true
   },
   "outputs": [],
   "source": [
    "pipeline_LR = make_pipeline(select, LogR) \n",
    "pipeline_LR.fit(df_train, df_target)\n",
    "predictions_LR = pipeline_LR.predict(df_train)\n",
    "predict_proba_LR = pipeline_LR.predict_proba(df_train)[:,1]"
   ]
  },
  {
   "cell_type": "code",
   "execution_count": 48,
   "metadata": {
    "collapsed": false,
    "scrolled": true
   },
   "outputs": [
    {
     "name": "stdout",
     "output_type": "stream",
     "text": [
      "Accuracy : 0.8249\n",
      "AUC Score (Train): 0.868626\n",
      "CV Score : Mean - 0.8081855 | Std - 0.03537302 | Min - 0.7555556 | Max - 0.8651685\n"
     ]
    }
   ],
   "source": [
    "cv_score_LR = cross_val_score(LogR, df_train, df_target, cv=cv, n_jobs=-1)\n",
    "\n",
    "print(\"Accuracy : %.4g\" % metrics.accuracy_score(df_target.values, predictions_LR))\n",
    "print(\"AUC Score (Train): %f\" % metrics.roc_auc_score(df_target, predict_proba_LR))\n",
    "print(\"CV Score : Mean - %.7g | Std - %.7g | Min - %.7g | Max - %.7g\" % (np.mean(cv_score_LR), np.std(cv_score_LR), \n",
    "np.min(cv_score_LR),\n",
    "np.max(cv_score_LR)))"
   ]
  },
  {
   "cell_type": "code",
   "execution_count": null,
   "metadata": {
    "collapsed": false
   },
   "outputs": [],
   "source": [
    "final_pred1 = pipeline_LR.predict(df_test)\n",
    "submission1 = pd.DataFrame({\"PassengerId\": test[\"PassengerId\"], \"Survived\": final_pred1 })\n",
    "submission1.to_csv(\"m1.csv\", index=False) "
   ]
  },
  {
   "cell_type": "markdown",
   "metadata": {},
   "source": [
    "# Decision Tree "
   ]
  },
  {
   "cell_type": "code",
   "execution_count": 49,
   "metadata": {
    "collapsed": false
   },
   "outputs": [],
   "source": [
    "decision_tree_calssifier=DecisionTreeClassifier(random_state = 10,\n",
    "                                  #max_depth = 15, \n",
    "                                  max_features = 'sqrt')\n",
    "parameter_grid={'max_depth':[7,8 ]}\n",
    "\n",
    "cross_validation=StratifiedKFold(df_target.values,n_folds=10)\n",
    "grid_search=GridSearchCV(decision_tree_calssifier,\\\n",
    "                         param_grid=parameter_grid,\\\n",
    "                        cv=cross_validation,verbose=3)"
   ]
  },
  {
   "cell_type": "code",
   "execution_count": 50,
   "metadata": {
    "collapsed": false
   },
   "outputs": [
    {
     "name": "stdout",
     "output_type": "stream",
     "text": [
      "Fitting 10 folds for each of 2 candidates, totalling 20 fits\n",
      "[CV] max_depth=7 .....................................................\n",
      "[CV] ............................ max_depth=7, score=0.833333 -   0.0s\n",
      "[CV] max_depth=7 .....................................................\n",
      "[CV] ............................ max_depth=7, score=0.800000 -   0.0s\n",
      "[CV] max_depth=7 .....................................................\n",
      "[CV] ............................ max_depth=7, score=0.797753 -   0.0s\n",
      "[CV] max_depth=7 .....................................................\n",
      "[CV] ............................ max_depth=7, score=0.820225 -   0.0s\n",
      "[CV] max_depth=7 .....................................................\n",
      "[CV] ............................ max_depth=7, score=0.876404 -   0.0s\n",
      "[CV] max_depth=7 .....................................................\n",
      "[CV] ............................ max_depth=7, score=0.808989 -   0.0s\n",
      "[CV] max_depth=7 .....................................................\n",
      "[CV] ............................ max_depth=7, score=0.764045 -   0.0s\n",
      "[CV] max_depth=7 .....................................................\n",
      "[CV] ............................ max_depth=7, score=0.775281 -   0.0s\n",
      "[CV] max_depth=7 .....................................................\n",
      "[CV] ............................ max_depth=7, score=0.808989 -   0.0s\n",
      "[CV] max_depth=7 .....................................................\n",
      "[CV] ............................ max_depth=7, score=0.863636 -   0.0s\n",
      "[CV] max_depth=8 .....................................................\n",
      "[CV] ............................ max_depth=8, score=0.788889 -   0.0s\n",
      "[CV] max_depth=8 .....................................................\n",
      "[CV] ............................ max_depth=8, score=0.844444 -   0.0s\n",
      "[CV] max_depth=8 .....................................................\n",
      "[CV] ............................ max_depth=8, score=0.764045 -   0.0s\n",
      "[CV] max_depth=8 .....................................................\n",
      "[CV] ............................ max_depth=8, score=0.842697 -   0.0s\n",
      "[CV] max_depth=8 .....................................................\n",
      "[CV] ............................ max_depth=8, score=0.910112 -   0.0s\n",
      "[CV] max_depth=8 .....................................................\n",
      "[CV] ............................ max_depth=8, score=0.831461 -   0.0s\n",
      "[CV] max_depth=8 .....................................................\n",
      "[CV] ............................ max_depth=8, score=0.786517 -   0.0s\n",
      "[CV] max_depth=8 .....................................................\n",
      "[CV] ............................ max_depth=8, score=0.730337 -   0.0s\n",
      "[CV] max_depth=8 .....................................................\n",
      "[CV] ............................ max_depth=8, score=0.842697 -   0.0s\n",
      "[CV] max_depth=8 .....................................................\n",
      "[CV] ............................ max_depth=8, score=0.795455 -   0.0s\n"
     ]
    },
    {
     "name": "stderr",
     "output_type": "stream",
     "text": [
      "[Parallel(n_jobs=1)]: Done  20 out of  20 | elapsed:    0.0s finished\n"
     ]
    },
    {
     "data": {
      "text/plain": [
       "GridSearchCV(cv=sklearn.cross_validation.StratifiedKFold(labels=[0 1 ..., 1 0], n_folds=10, shuffle=False, random_state=None),\n",
       "       error_score='raise',\n",
       "       estimator=DecisionTreeClassifier(class_weight=None, criterion='gini', max_depth=None,\n",
       "            max_features='sqrt', max_leaf_nodes=None, min_samples_leaf=1,\n",
       "            min_samples_split=2, min_weight_fraction_leaf=0.0,\n",
       "            presort=False, random_state=10, splitter='best'),\n",
       "       fit_params={}, iid=True, n_jobs=1, param_grid={'max_depth': [7, 8]},\n",
       "       pre_dispatch='2*n_jobs', refit=True, scoring=None, verbose=3)"
      ]
     },
     "execution_count": 50,
     "metadata": {},
     "output_type": "execute_result"
    }
   ],
   "source": [
    "grid_search.fit(df_train.values,df_target.values)"
   ]
  },
  {
   "cell_type": "code",
   "execution_count": 51,
   "metadata": {
    "collapsed": false
   },
   "outputs": [
    {
     "data": {
      "text/plain": [
       "{'max_depth': 7}"
      ]
     },
     "execution_count": 51,
     "metadata": {},
     "output_type": "execute_result"
    }
   ],
   "source": [
    "grid_search.best_params_"
   ]
  },
  {
   "cell_type": "code",
   "execution_count": 53,
   "metadata": {
    "collapsed": false
   },
   "outputs": [],
   "source": [
    "#decision_tree_calssifier=grid_search.best_estimator_\n",
    "decision_tree_calssifier=DecisionTreeClassifier(random_state = 10,\n",
    "                                  max_depth = 7, \n",
    "                                  max_features = 'sqrt')"
   ]
  },
  {
   "cell_type": "code",
   "execution_count": 54,
   "metadata": {
    "collapsed": false
   },
   "outputs": [],
   "source": [
    "pipeline_DR = make_pipeline(select, decision_tree_calssifier) \n",
    "pipeline_DR.fit(df_train, df_target)\n",
    "predictions_DR = pipeline_DR.predict(df_train)\n",
    "predict_proba_DR = pipeline_DR.predict_proba(df_train)[:,1]"
   ]
  },
  {
   "cell_type": "code",
   "execution_count": 55,
   "metadata": {
    "collapsed": false
   },
   "outputs": [
    {
     "name": "stdout",
     "output_type": "stream",
     "text": [
      "Accuracy : 0.8541\n",
      "AUC Score (Train): 0.891730\n",
      "CV Score : Mean - 0.8238157 | Std - 0.03880608 | Min - 0.7640449 | Max - 0.8988764\n"
     ]
    },
    {
     "name": "stderr",
     "output_type": "stream",
     "text": [
      "/Users/thein/anaconda/lib/python3.5/site-packages/sklearn/feature_selection/univariate_selection.py:113: UserWarning: Features [23] are constant.\n",
      "  UserWarning)\n"
     ]
    }
   ],
   "source": [
    "cv_score_DR = cross_val_score(pipeline_DR, df_train, df_target, cv= cv)\n",
    "print(\"Accuracy : %.4g\" % metrics.accuracy_score(df_target.values, predictions_DR))\n",
    "print(\"AUC Score (Train): %f\" % metrics.roc_auc_score(df_target, predict_proba_DR))\n",
    "print(\"CV Score : Mean - %.7g | Std - %.7g | Min - %.7g | Max - %.7g\" % (np.mean(cv_score_DR), np.std(cv_score_DR), \n",
    "np.min(cv_score_DR),\n",
    "np.max(cv_score_DR)))"
   ]
  },
  {
   "cell_type": "code",
   "execution_count": 56,
   "metadata": {
    "collapsed": false
   },
   "outputs": [
    {
     "data": {
      "text/plain": [
       "<matplotlib.axes._subplots.AxesSubplot at 0x11ac9cfd0>"
      ]
     },
     "execution_count": 56,
     "metadata": {},
     "output_type": "execute_result"
    },
    {
     "data": {
      "image/png": "[encoded data removed]",
      "text/plain": [
       "<matplotlib.figure.Figure at 0x11ac75a90>"
      ]
     },
     "metadata": {},
     "output_type": "display_data"
    }
   ],
   "source": [
    "sb.distplot(cv_score_DR)"
   ]
  },
  {
   "cell_type": "code",
   "execution_count": null,
   "metadata": {
    "collapsed": false
   },
   "outputs": [],
   "source": [
    "final_pred1 = pipeline_DR.predict(df_test)\n",
    "submission1 = pd.DataFrame({\"PassengerId\": test[\"PassengerId\"], \"Survived\": final_pred1 })\n",
    "submission1.to_csv(\"m2.csv\", index=False) "
   ]
  },
  {
   "cell_type": "markdown",
   "metadata": {},
   "source": [
    "# Random Forest "
   ]
  },
  {
   "cell_type": "code",
   "execution_count": 57,
   "metadata": {
    "collapsed": true
   },
   "outputs": [],
   "source": [
    "\n",
    "\n",
    "RF = RandomForestClassifier(random_state = 10, warm_start = True, \n",
    "                            n_estimators = 26,\n",
    "                            #min_samples_leaf=1,\n",
    "                            #min_samples_split=2,\n",
    "                            max_depth = 6, \n",
    "                            max_features = 'sqrt')\n",
    "pipeline_RF = make_pipeline(select, RF)               \n",
    " "
   ]
  },
  {
   "cell_type": "code",
   "execution_count": 58,
   "metadata": {
    "collapsed": false
   },
   "outputs": [
    {
     "data": {
      "text/plain": [
       "RandomForestClassifier(bootstrap=True, class_weight=None, criterion='gini',\n",
       "            max_depth=6, max_features='sqrt', max_leaf_nodes=None,\n",
       "            min_samples_leaf=1, min_samples_split=2,\n",
       "            min_weight_fraction_leaf=0.0, n_estimators=26, n_jobs=1,\n",
       "            oob_score=False, random_state=10, verbose=0, warm_start=True)"
      ]
     },
     "execution_count": 58,
     "metadata": {},
     "output_type": "execute_result"
    }
   ],
   "source": [
    "RF"
   ]
  },
  {
   "cell_type": "code",
   "execution_count": 59,
   "metadata": {
    "collapsed": false
   },
   "outputs": [],
   "source": [
    "pipeline_RF.fit(df_train, df_target)\n",
    "predictions_RF = pipeline_RF.predict(df_train)\n",
    "predict_proba_RF = pipeline_RF.predict_proba(df_train)[:,1]"
   ]
  },
  {
   "cell_type": "code",
   "execution_count": 60,
   "metadata": {
    "collapsed": false
   },
   "outputs": [
    {
     "name": "stdout",
     "output_type": "stream",
     "text": [
      "Accuracy : 0.8732\n",
      "AUC Score (Train): 0.922400\n",
      "CV Score : Mean - 0.8417566 | Std - 0.03738464 | Min - 0.752809 | Max - 0.8876404\n"
     ]
    },
    {
     "name": "stderr",
     "output_type": "stream",
     "text": [
      "/Users/thein/anaconda/lib/python3.5/site-packages/sklearn/feature_selection/univariate_selection.py:113: UserWarning: Features [23] are constant.\n",
      "  UserWarning)\n"
     ]
    }
   ],
   "source": [
    "\n",
    "cv_score_RF = cross_val_score(pipeline_RF, df_train, df_target, cv= cv)\n",
    "print(\"Accuracy : %.4g\" % metrics.accuracy_score(df_target.values, predictions_RF))\n",
    "print(\"AUC Score (Train): %f\" % metrics.roc_auc_score(df_target, predict_proba_RF))\n",
    "print(\"CV Score : Mean - %.7g | Std - %.7g | Min - %.7g | Max - %.7g\" % (np.mean(cv_score_RF), np.std(cv_score_RF), \n",
    "np.min(cv_score_RF),\n",
    "np.max(cv_score_RF)))"
   ]
  },
  {
   "cell_type": "code",
   "execution_count": 61,
   "metadata": {
    "collapsed": false
   },
   "outputs": [
    {
     "data": {
      "text/plain": [
       "<matplotlib.axes._subplots.AxesSubplot at 0x11ac846a0>"
      ]
     },
     "execution_count": 61,
     "metadata": {},
     "output_type": "execute_result"
    },
    {
     "data": {
      "image/png": "[encoded data removed]",
      "text/plain": [
       "<matplotlib.figure.Figure at 0x11af03f98>"
      ]
     },
     "metadata": {},
     "output_type": "display_data"
    }
   ],
   "source": [
    "sb.distplot(cv_score_RF)"
   ]
  },
  {
   "cell_type": "code",
   "execution_count": null,
   "metadata": {
    "collapsed": false
   },
   "outputs": [],
   "source": [
    "final_pred = pipeline_RF.predict(df_test)\n",
    "submission = pd.DataFrame({\"PassengerId\": test[\"PassengerId\"], \"Survived\": final_pred })\n",
    "submission.to_csv(\"m3.csv\", index=False) "
   ]
  },
  {
   "cell_type": "markdown",
   "metadata": {},
   "source": [
    "# Random Forest Tuning "
   ]
  },
  {
   "cell_type": "code",
   "execution_count": 62,
   "metadata": {
    "collapsed": false,
    "scrolled": false
   },
   "outputs": [
    {
     "name": "stdout",
     "output_type": "stream",
     "text": [
      "Fitting 10 folds for each of 2 candidates, totalling 20 fits\n",
      "[CV] max_depth=6, n_estimators=25 ....................................\n",
      "[CV] max_depth=6, n_estimators=25 ....................................\n",
      "[CV] max_depth=6, n_estimators=25 ....................................\n",
      "[CV] max_depth=6, n_estimators=25 ....................................\n",
      "[CV] max_depth=6, n_estimators=25 ....................................\n",
      "[CV] max_depth=6, n_estimators=25 ....................................\n",
      "[CV] max_depth=6, n_estimators=25 ....................................\n",
      "[CV] max_depth=6, n_estimators=25 ....................................\n",
      "[CV] ........... max_depth=6, n_estimators=25, score=0.844444 -   0.1s\n",
      "[CV] ........... max_depth=6, n_estimators=25, score=0.764045 -   0.1s\n",
      "[CV] ........... max_depth=6, n_estimators=25, score=0.833333 -   0.1s\n",
      "[CV] ........... max_depth=6, n_estimators=25, score=0.887640 -   0.1s\n",
      "[CV] max_depth=6, n_estimators=25 ....................................\n",
      "[CV] max_depth=6, n_estimators=25 ....................................\n",
      "[CV] max_depth=6, n_estimators=26 ....................................\n",
      "[CV] max_depth=6, n_estimators=26 ....................................\n",
      "[CV] ........... max_depth=6, n_estimators=25, score=0.831461 -   0.1s\n",
      "[CV] ........... max_depth=6, n_estimators=25, score=0.910112 -   0.1s\n",
      "[CV] ........... max_depth=6, n_estimators=25, score=0.831461 -   0.1s\n",
      "[CV] ........... max_depth=6, n_estimators=25, score=0.775281 -   0.1s\n",
      "[CV] max_depth=6, n_estimators=26 ....................................\n",
      "[CV] max_depth=6, n_estimators=26 ....................................\n",
      "[CV] max_depth=6, n_estimators=26 ....................................\n",
      "[CV] max_depth=6, n_estimators=26 ....................................\n",
      "[CV] ........... max_depth=6, n_estimators=25, score=0.853933 -   0.1s\n",
      "[CV] ........... max_depth=6, n_estimators=25, score=0.829545 -   0.1s\n",
      "[CV] max_depth=6, n_estimators=26 ....................................\n",
      "[CV] ........... max_depth=6, n_estimators=26, score=0.833333 -   0.1s\n",
      "[CV] ........... max_depth=6, n_estimators=26, score=0.844444 -   0.1s\n",
      "[CV] ........... max_depth=6, n_estimators=26, score=0.764045 -   0.1s\n",
      "[CV] ........... max_depth=6, n_estimators=26, score=0.887640 -   0.1s\n",
      "[CV] ........... max_depth=6, n_estimators=26, score=0.910112 -   0.1s\n",
      "[CV] ........... max_depth=6, n_estimators=26, score=0.831461 -   0.1s\n",
      "[CV] ........... max_depth=6, n_estimators=26, score=0.831461 -   0.0s\n",
      "[CV] max_depth=6, n_estimators=26 ....................................\n",
      "[CV] ........... max_depth=6, n_estimators=26, score=0.775281 -   0.0s\n",
      "[CV] max_depth=6, n_estimators=26 ....................................\n",
      "[CV] ........... max_depth=6, n_estimators=26, score=0.865169 -   0.0s\n",
      "[CV] max_depth=6, n_estimators=26 ....................................\n"
     ]
    },
    {
     "name": "stderr",
     "output_type": "stream",
     "text": [
      "[Parallel(n_jobs=-1)]: Batch computation too fast (0.0846s.) Setting batch_size=4.\n",
      "[Parallel(n_jobs=-1)]: Done   2 tasks      | elapsed:    0.1s\n",
      "[Parallel(n_jobs=-1)]: Done  18 out of  20 | elapsed:    0.1s remaining:    0.0s\n",
      "[Parallel(n_jobs=-1)]: Done  18 out of  20 | elapsed:    0.1s remaining:    0.0s\n",
      "[Parallel(n_jobs=-1)]: Done  18 out of  20 | elapsed:    0.1s remaining:    0.0s\n",
      "[Parallel(n_jobs=-1)]: Done  18 out of  20 | elapsed:    0.1s remaining:    0.0s\n",
      "[Parallel(n_jobs=-1)]: Done  18 out of  20 | elapsed:    0.1s remaining:    0.0s\n",
      "[Parallel(n_jobs=-1)]: Done  18 out of  20 | elapsed:    0.1s remaining:    0.0s\n",
      "[Parallel(n_jobs=-1)]: Done  18 out of  20 | elapsed:    0.2s remaining:    0.0s\n",
      "[Parallel(n_jobs=-1)]: Done  18 out of  20 | elapsed:    0.2s remaining:    0.0s\n",
      "[Parallel(n_jobs=-1)]: Done  18 out of  20 | elapsed:    0.2s remaining:    0.0s\n",
      "[Parallel(n_jobs=-1)]: Done  18 out of  20 | elapsed:    0.2s remaining:    0.0s\n",
      "[Parallel(n_jobs=-1)]: Done  18 out of  20 | elapsed:    0.2s remaining:    0.0s\n",
      "[Parallel(n_jobs=-1)]: Done  18 out of  20 | elapsed:    0.2s remaining:    0.0s\n",
      "[Parallel(n_jobs=-1)]: Done  18 out of  20 | elapsed:    0.2s remaining:    0.0s\n",
      "[Parallel(n_jobs=-1)]: Done  18 out of  20 | elapsed:    0.2s remaining:    0.0s\n"
     ]
    },
    {
     "name": "stdout",
     "output_type": "stream",
     "text": [
      "[CV] ........... max_depth=6, n_estimators=26, score=0.829545 -   0.0s\n"
     ]
    },
    {
     "name": "stderr",
     "output_type": "stream",
     "text": [
      "[Parallel(n_jobs=-1)]: Done  18 out of  20 | elapsed:    0.3s remaining:    0.0s\n",
      "[Parallel(n_jobs=-1)]: Done  20 out of  20 | elapsed:    0.3s finished\n"
     ]
    }
   ],
   "source": [
    "\n",
    "RF_model = RandomForestClassifier(random_state=10,max_features = 'sqrt')\n",
    "params = [{\n",
    "    \"n_estimators\": [25,26],\n",
    "    #\"min_samples_split\": [2],\n",
    "    #\"min_samples_leaf\": [1,2,3],\n",
    "    \"max_depth\":[6] \n",
    "}]\n",
    "a=grid_search= GridSearchCV(RF_model, params, cv=cv, refit=True, verbose=10, n_jobs=-1)\n",
    "grid_search.fit(df_train.values,df_target.values)\n",
    "RF_best = grid_search.best_estimator_"
   ]
  },
  {
   "cell_type": "code",
   "execution_count": null,
   "metadata": {
    "collapsed": true
   },
   "outputs": [],
   "source": [
    "#report = sklearn.metrics.classification_report( y_test, y_prediction )\n",
    "### and print the report\n",
    "#print(report)"
   ]
  },
  {
   "cell_type": "code",
   "execution_count": 63,
   "metadata": {
    "collapsed": false
   },
   "outputs": [
    {
     "data": {
      "text/plain": [
       "{'max_depth': 6, 'n_estimators': 26}"
      ]
     },
     "execution_count": 63,
     "metadata": {},
     "output_type": "execute_result"
    }
   ],
   "source": [
    "grid_search.best_params_"
   ]
  },
  {
   "cell_type": "code",
   "execution_count": 64,
   "metadata": {
    "collapsed": false
   },
   "outputs": [
    {
     "name": "stderr",
     "output_type": "stream",
     "text": [
      "/Users/thein/anaconda/lib/python3.5/site-packages/sklearn/feature_selection/univariate_selection.py:113: UserWarning: Features [23] are constant.\n",
      "  UserWarning)\n"
     ]
    },
    {
     "name": "stdout",
     "output_type": "stream",
     "text": [
      "Accuracy : 0.8732\n",
      "AUC Score (Train): 0.922400\n",
      "CV Score : Mean - 0.8417566 | Std - 0.03738464 | Min - 0.752809 | Max - 0.8876404\n"
     ]
    },
    {
     "data": {
      "text/plain": [
       "<matplotlib.axes._subplots.AxesSubplot at 0x104ac1240>"
      ]
     },
     "execution_count": 64,
     "metadata": {},
     "output_type": "execute_result"
    },
    {
     "data": {
      "image/png": "[encoded data removed]",
      "text/plain": [
       "<matplotlib.figure.Figure at 0x11ec824e0>"
      ]
     },
     "metadata": {},
     "output_type": "display_data"
    }
   ],
   "source": [
    "RF_best=grid_search.best_estimator_\n",
    "pipeline_RF = make_pipeline(select, RF_best)               \n",
    "pipeline_RF.fit(df_train, df_target)\n",
    "predictions_RF = pipeline_RF.predict(df_train)\n",
    "predict_proba_RF = pipeline_RF.predict_proba(df_train)[:,1]\n",
    "\n",
    "cv_score_RF = cross_val_score(pipeline_RF, df_train, df_target, cv= cv)\n",
    "print(\"Accuracy : %.4g\" % metrics.accuracy_score(df_target.values, predictions_RF))\n",
    "print(\"AUC Score (Train): %f\" % metrics.roc_auc_score(df_target, predict_proba_RF))\n",
    "print(\"CV Score : Mean - %.7g | Std - %.7g | Min - %.7g | Max - %.7g\" % (np.mean(cv_score_RF), np.std(cv_score_RF), \n",
    "np.min(cv_score_RF),\n",
    "np.max(cv_score_RF)))\n",
    "sb.distplot(cv_score_RF)"
   ]
  },
  {
   "cell_type": "code",
   "execution_count": null,
   "metadata": {
    "collapsed": true
   },
   "outputs": [],
   "source": [
    "final_pred2 = pipeline_RF.predict(df_test)\n",
    "submission2 = pd.DataFrame({\"PassengerId\": titanic_test[\"PassengerId\"], \"Survived\": final_pred2 })\n",
    "submission2.to_csv(\"method5.csv\", index=False) "
   ]
  },
  {
   "cell_type": "markdown",
   "metadata": {},
   "source": [
    "# Extreme Gradient Boosting  (XGB)"
   ]
  },
  {
   "cell_type": "code",
   "execution_count": 65,
   "metadata": {
    "collapsed": false
   },
   "outputs": [
    {
     "data": {
      "text/plain": [
       "XGBClassifier(base_score=0.5, colsample_bylevel=1, colsample_bytree=1,\n",
       "       gamma=0, learning_rate=0.1, max_delta_step=0, max_depth=3,\n",
       "       min_child_weight=1, missing=None, n_estimators=100, nthread=4,\n",
       "       objective='binary:logistic', reg_alpha=0, reg_lambda=1,\n",
       "       scale_pos_weight=1, seed=0, silent=True, subsample=1)"
      ]
     },
     "execution_count": 65,
     "metadata": {},
     "output_type": "execute_result"
    }
   ],
   "source": [
    "import xgboost as xgb\n",
    "xgb_model = xgb.XGBClassifier(nthread=4)\n",
    "xgb_model\n",
    "#brute force scan for all parameters, here are the tricks\n",
    "#usually max_depth is 6,7,8\n",
    "#learning rate is around 0.05, but small changes may make big diff\n",
    "#tuning min_child_weight subsample colsample_bytree can have \n",
    "#much fun of fighting against overfit \n",
    "#n_estimators is how many round of boosting\n",
    "#finally, ensemble xgboost with multiple seeds may reduce variance"
   ]
  },
  {
   "cell_type": "code",
   "execution_count": 66,
   "metadata": {
    "collapsed": false
   },
   "outputs": [],
   "source": [
    "cross_validation=StratifiedKFold(df_target.values,n_folds=10)\n",
    "params1 = [{\n",
    "    \"n_estimators\": [540,550,560],\n",
    "     \"max_depth\": [2],\n",
    "     \"learning_rate\": [ 0.03,0.05]\n",
    "}]\n",
    "#grid_search1= GridSearchCV(xgb_model, params1, cv=cv, refit=True, verbose=3, n_jobs=-1)\n",
    "#grid_search1.fit(df_train.values,df_target.values)\n",
    "\n",
    "grid_search2 = GridSearchCV(xgb_model, params1, n_jobs=5, \n",
    "                   cv=cross_validation, \n",
    "                   scoring='roc_auc',\n",
    "                   verbose=3, refit=True)"
   ]
  },
  {
   "cell_type": "code",
   "execution_count": 67,
   "metadata": {
    "collapsed": false,
    "scrolled": false
   },
   "outputs": [
    {
     "name": "stdout",
     "output_type": "stream",
     "text": [
      "Fitting 10 folds for each of 6 candidates, totalling 60 fits\n",
      "[CV] max_depth=2, learning_rate=0.03, n_estimators=540 ...............\n",
      "[CV] max_depth=2, learning_rate=0.03, n_estimators=540 ...............\n",
      "[CV] max_depth=2, learning_rate=0.03, n_estimators=540 ...............\n",
      "[CV] max_depth=2, learning_rate=0.03, n_estimators=540 ...............\n",
      "[CV] max_depth=2, learning_rate=0.03, n_estimators=540 ...............\n",
      "[CV]  max_depth=2, learning_rate=0.03, n_estimators=540, score=0.873506 -   0.4s\n",
      "[CV] max_depth=2, learning_rate=0.03, n_estimators=540 ...............\n",
      "[CV]  max_depth=2, learning_rate=0.03, n_estimators=540, score=0.874286 -   0.5s\n",
      "[CV] max_depth=2, learning_rate=0.03, n_estimators=540 ...............\n",
      "[CV]  max_depth=2, learning_rate=0.03, n_estimators=540, score=0.753743 -   0.5s\n",
      "[CV] max_depth=2, learning_rate=0.03, n_estimators=540 ...............\n",
      "[CV]  max_depth=2, learning_rate=0.03, n_estimators=540, score=0.903476 -   0.5s\n",
      "[CV]  max_depth=2, learning_rate=0.03, n_estimators=540, score=0.924866 -   0.5s\n",
      "[CV] max_depth=2, learning_rate=0.03, n_estimators=540 ...............\n",
      "[CV] max_depth=2, learning_rate=0.03, n_estimators=540 ...............\n",
      "[CV]  max_depth=2, learning_rate=0.03, n_estimators=540, score=0.862567 -   0.4s\n",
      "[CV] max_depth=2, learning_rate=0.03, n_estimators=550 ...............\n",
      "[CV]  max_depth=2, learning_rate=0.03, n_estimators=540, score=0.871925 -   0.5s\n",
      "[CV] max_depth=2, learning_rate=0.03, n_estimators=550 ...............\n",
      "[CV]  max_depth=2, learning_rate=0.03, n_estimators=540, score=0.883957 -   0.5s\n",
      "[CV] max_depth=2, learning_rate=0.03, n_estimators=550 ...............\n",
      "[CV]  max_depth=2, learning_rate=0.03, n_estimators=540, score=0.896514 -   0.5s\n",
      "[CV] max_depth=2, learning_rate=0.03, n_estimators=550 ...............\n",
      "[CV]  max_depth=2, learning_rate=0.03, n_estimators=540, score=0.933155 -   0.5s\n",
      "[CV] max_depth=2, learning_rate=0.03, n_estimators=550 ...............\n",
      "[CV]  max_depth=2, learning_rate=0.03, n_estimators=550, score=0.873766 -   0.5s\n",
      "[CV] max_depth=2, learning_rate=0.03, n_estimators=550 ...............\n",
      "[CV]  max_depth=2, learning_rate=0.03, n_estimators=550, score=0.924866 -   0.5s\n",
      "[CV] max_depth=2, learning_rate=0.03, n_estimators=550 ...............\n",
      "[CV]  max_depth=2, learning_rate=0.03, n_estimators=550, score=0.874026 -   0.5s\n",
      "[CV] max_depth=2, learning_rate=0.03, n_estimators=550 ...............\n",
      "[CV]  max_depth=2, learning_rate=0.03, n_estimators=550, score=0.754278 -   0.5s\n",
      "[CV] max_depth=2, learning_rate=0.03, n_estimators=550 ...............\n",
      "[CV]  max_depth=2, learning_rate=0.03, n_estimators=550, score=0.904011 -   0.5s\n",
      "[CV] max_depth=2, learning_rate=0.03, n_estimators=550 ...............\n",
      "[CV]  max_depth=2, learning_rate=0.03, n_estimators=550, score=0.883422 -   0.4s\n",
      "[CV] max_depth=2, learning_rate=0.03, n_estimators=560 ...............\n",
      "[CV]  max_depth=2, learning_rate=0.03, n_estimators=550, score=0.871390 -   0.5s\n",
      "[CV] max_depth=2, learning_rate=0.03, n_estimators=560 ...............\n",
      "[CV]  max_depth=2, learning_rate=0.03, n_estimators=550, score=0.865241 -   0.5s\n",
      "[CV] max_depth=2, learning_rate=0.03, n_estimators=560 ...............\n",
      "[CV]  max_depth=2, learning_rate=0.03, n_estimators=550, score=0.896514 -   0.5s\n",
      "[CV] max_depth=2, learning_rate=0.03, n_estimators=560 ...............\n",
      "[CV]  max_depth=2, learning_rate=0.03, n_estimators=550, score=0.933155 -   0.5s\n",
      "[CV] max_depth=2, learning_rate=0.03, n_estimators=560 ...............\n",
      "[CV]  max_depth=2, learning_rate=0.03, n_estimators=560, score=0.874026 -   0.5s\n",
      "[CV] max_depth=2, learning_rate=0.03, n_estimators=560 ...............\n",
      "[CV]  max_depth=2, learning_rate=0.03, n_estimators=560, score=0.875325 -   0.5s\n",
      "[CV] max_depth=2, learning_rate=0.03, n_estimators=560 ...............\n",
      "[CV]  max_depth=2, learning_rate=0.03, n_estimators=560, score=0.903476 -   0.5s\n",
      "[CV] max_depth=2, learning_rate=0.03, n_estimators=560 ...............\n",
      "[CV]  max_depth=2, learning_rate=0.03, n_estimators=560, score=0.924866 -   0.5s\n",
      "[CV] max_depth=2, learning_rate=0.03, n_estimators=560 ...............\n",
      "[CV]  max_depth=2, learning_rate=0.03, n_estimators=560, score=0.752674 -   0.5s\n",
      "[CV] max_depth=2, learning_rate=0.03, n_estimators=560 ...............\n"
     ]
    },
    {
     "name": "stderr",
     "output_type": "stream",
     "text": [
      "[Parallel(n_jobs=5)]: Done  22 tasks      | elapsed:    2.4s\n"
     ]
    },
    {
     "name": "stdout",
     "output_type": "stream",
     "text": [
      "[CV]  max_depth=2, learning_rate=0.03, n_estimators=560, score=0.884492 -   0.5s\n",
      "[CV] max_depth=2, learning_rate=0.05, n_estimators=540 ...............\n",
      "[CV]  max_depth=2, learning_rate=0.03, n_estimators=560, score=0.872460 -   0.5s\n",
      "[CV] max_depth=2, learning_rate=0.05, n_estimators=540 ...............\n",
      "[CV]  max_depth=2, learning_rate=0.03, n_estimators=560, score=0.865241 -   0.5s\n",
      "[CV] max_depth=2, learning_rate=0.05, n_estimators=540 ...............\n",
      "[CV]  max_depth=2, learning_rate=0.03, n_estimators=560, score=0.932086 -   0.5s\n",
      "[CV] max_depth=2, learning_rate=0.05, n_estimators=540 ...............\n",
      "[CV]  max_depth=2, learning_rate=0.03, n_estimators=560, score=0.896514 -   0.5s\n",
      "[CV] max_depth=2, learning_rate=0.05, n_estimators=540 ...............\n",
      "[CV]  max_depth=2, learning_rate=0.05, n_estimators=540, score=0.882078 -   0.5s\n",
      "[CV] max_depth=2, learning_rate=0.05, n_estimators=540 ...............\n",
      "[CV]  max_depth=2, learning_rate=0.05, n_estimators=540, score=0.884675 -   0.5s\n",
      "[CV] max_depth=2, learning_rate=0.05, n_estimators=540 ...............\n",
      "[CV]  max_depth=2, learning_rate=0.05, n_estimators=540, score=0.925401 -   0.5s\n",
      "[CV] max_depth=2, learning_rate=0.05, n_estimators=540 ...............\n",
      "[CV]  max_depth=2, learning_rate=0.05, n_estimators=540, score=0.744920 -   0.5s\n",
      "[CV]  max_depth=2, learning_rate=0.05, n_estimators=540, score=0.905882 -   0.5s\n",
      "[CV] max_depth=2, learning_rate=0.05, n_estimators=540 ...............\n",
      "[CV] max_depth=2, learning_rate=0.05, n_estimators=540 ...............\n",
      "[CV]  max_depth=2, learning_rate=0.05, n_estimators=540, score=0.876471 -   0.4s\n",
      "[CV] max_depth=2, learning_rate=0.05, n_estimators=550 ...............\n",
      "[CV]  max_depth=2, learning_rate=0.05, n_estimators=540, score=0.870588 -   0.4s\n",
      "[CV] max_depth=2, learning_rate=0.05, n_estimators=550 ...............\n",
      "[CV]  max_depth=2, learning_rate=0.05, n_estimators=540, score=0.872193 -   0.5s\n",
      "[CV] max_depth=2, learning_rate=0.05, n_estimators=550 ...............\n",
      "[CV]  max_depth=2, learning_rate=0.05, n_estimators=540, score=0.933690 -   0.5s\n",
      "[CV] max_depth=2, learning_rate=0.05, n_estimators=550 ...............\n",
      "[CV]  max_depth=2, learning_rate=0.05, n_estimators=540, score=0.900871 -   0.5s\n",
      "[CV] max_depth=2, learning_rate=0.05, n_estimators=550 ...............\n",
      "[CV]  max_depth=2, learning_rate=0.05, n_estimators=550, score=0.881558 -   0.5s\n",
      "[CV] max_depth=2, learning_rate=0.05, n_estimators=550 ...............\n",
      "[CV]  max_depth=2, learning_rate=0.05, n_estimators=550, score=0.884675 -   0.5s\n",
      "[CV] max_depth=2, learning_rate=0.05, n_estimators=550 ...............\n",
      "[CV]  max_depth=2, learning_rate=0.05, n_estimators=550, score=0.747326 -   0.5s\n",
      "[CV] max_depth=2, learning_rate=0.05, n_estimators=550 ...............\n",
      "[CV]  max_depth=2, learning_rate=0.05, n_estimators=550, score=0.925401 -   0.5s\n",
      "[CV] max_depth=2, learning_rate=0.05, n_estimators=550 ...............\n",
      "[CV]  max_depth=2, learning_rate=0.05, n_estimators=550, score=0.905882 -   0.5s\n",
      "[CV] max_depth=2, learning_rate=0.05, n_estimators=550 ...............\n",
      "[CV]  max_depth=2, learning_rate=0.05, n_estimators=550, score=0.875936 -   0.5s\n",
      "[CV] max_depth=2, learning_rate=0.05, n_estimators=560 ...............\n",
      "[CV]  max_depth=2, learning_rate=0.05, n_estimators=550, score=0.868449 -   0.5s\n",
      "[CV] max_depth=2, learning_rate=0.05, n_estimators=560 ...............\n",
      "[CV]  max_depth=2, learning_rate=0.05, n_estimators=550, score=0.877005 -   0.5s\n",
      "[CV] max_depth=2, learning_rate=0.05, n_estimators=560 ...............\n",
      "[CV]  max_depth=2, learning_rate=0.05, n_estimators=550, score=0.932086 -   0.5s\n",
      "[CV] max_depth=2, learning_rate=0.05, n_estimators=560 ...............\n",
      "[CV]  max_depth=2, learning_rate=0.05, n_estimators=550, score=0.900871 -   0.5s\n",
      "[CV] max_depth=2, learning_rate=0.05, n_estimators=560 ...............\n",
      "[CV]  max_depth=2, learning_rate=0.05, n_estimators=560, score=0.881558 -   0.5s\n",
      "[CV] max_depth=2, learning_rate=0.05, n_estimators=560 ...............\n",
      "[CV]  max_depth=2, learning_rate=0.05, n_estimators=560, score=0.884156 -   0.5s\n",
      "[CV] max_depth=2, learning_rate=0.05, n_estimators=560 ...............\n",
      "[CV]  max_depth=2, learning_rate=0.05, n_estimators=560, score=0.747326 -   0.5s\n",
      "[CV] max_depth=2, learning_rate=0.05, n_estimators=560 ...............\n",
      "[CV]  max_depth=2, learning_rate=0.05, n_estimators=560, score=0.906417 -   0.5s\n",
      "[CV] max_depth=2, learning_rate=0.05, n_estimators=560 ...............\n",
      "[CV]  max_depth=2, learning_rate=0.05, n_estimators=560, score=0.925401 -   0.5s\n",
      "[CV] max_depth=2, learning_rate=0.05, n_estimators=560 ...............\n",
      "[CV]  max_depth=2, learning_rate=0.05, n_estimators=560, score=0.875936 -   0.5s\n",
      "[CV]  max_depth=2, learning_rate=0.05, n_estimators=560, score=0.866845 -   0.4s\n",
      "[CV]  max_depth=2, learning_rate=0.05, n_estimators=560, score=0.875936 -   0.5s\n",
      "[CV]  max_depth=2, learning_rate=0.05, n_estimators=560, score=0.902505 -   0.4s\n",
      "[CV]  max_depth=2, learning_rate=0.05, n_estimators=560, score=0.931551 -   0.4s\n"
     ]
    },
    {
     "name": "stderr",
     "output_type": "stream",
     "text": [
      "[Parallel(n_jobs=5)]: Done  60 out of  60 | elapsed:    5.9s finished\n"
     ]
    },
    {
     "data": {
      "text/plain": [
       "GridSearchCV(cv=sklearn.cross_validation.StratifiedKFold(labels=[0 1 ..., 1 0], n_folds=10, shuffle=False, random_state=None),\n",
       "       error_score='raise',\n",
       "       estimator=XGBClassifier(base_score=0.5, colsample_bylevel=1, colsample_bytree=1,\n",
       "       gamma=0, learning_rate=0.1, max_delta_step=0, max_depth=3,\n",
       "       min_child_weight=1, missing=None, n_estimators=100, nthread=4,\n",
       "       objective='binary:logistic', reg_alpha=0, reg_lambda=1,\n",
       "       scale_pos_weight=1, seed=0, silent=True, subsample=1),\n",
       "       fit_params={}, iid=True, n_jobs=5,\n",
       "       param_grid=[{'max_depth': [2], 'learning_rate': [0.03, 0.05], 'n_estimators': [540, 550, 560]}],\n",
       "       pre_dispatch='2*n_jobs', refit=True, scoring='roc_auc', verbose=3)"
      ]
     },
     "execution_count": 67,
     "metadata": {},
     "output_type": "execute_result"
    }
   ],
   "source": [
    "grid_search2.fit(df_train.values,df_target.values)"
   ]
  },
  {
   "cell_type": "code",
   "execution_count": 68,
   "metadata": {
    "collapsed": false
   },
   "outputs": [
    {
     "name": "stdout",
     "output_type": "stream",
     "text": [
      "{'max_depth': 2, 'learning_rate': 0.05, 'n_estimators': 550}\n",
      "0.879902741176\n"
     ]
    }
   ],
   "source": [
    "print(grid_search2.best_params_)\n",
    "print(grid_search2.best_score_)"
   ]
  },
  {
   "cell_type": "code",
   "execution_count": 72,
   "metadata": {
    "collapsed": false
   },
   "outputs": [],
   "source": [
    "#xgb_best=grid_search1.best_estimator_\n",
    "xgb_best=xgb_model = xgb.XGBClassifier(learning_rate=0.05,n_estimators=582,max_depth=2)"
   ]
  },
  {
   "cell_type": "code",
   "execution_count": 73,
   "metadata": {
    "collapsed": false
   },
   "outputs": [
    {
     "data": {
      "text/plain": [
       "XGBClassifier(base_score=0.5, colsample_bylevel=1, colsample_bytree=1,\n",
       "       gamma=0, learning_rate=0.05, max_delta_step=0, max_depth=2,\n",
       "       min_child_weight=1, missing=None, n_estimators=582, nthread=-1,\n",
       "       objective='binary:logistic', reg_alpha=0, reg_lambda=1,\n",
       "       scale_pos_weight=1, seed=0, silent=True, subsample=1)"
      ]
     },
     "execution_count": 73,
     "metadata": {},
     "output_type": "execute_result"
    }
   ],
   "source": [
    "xgb_best.fit(df_train.values, df_target.values)"
   ]
  },
  {
   "cell_type": "code",
   "execution_count": 74,
   "metadata": {
    "collapsed": false
   },
   "outputs": [
    {
     "name": "stderr",
     "output_type": "stream",
     "text": [
      "/Users/thein/anaconda/lib/python3.5/site-packages/sklearn/feature_selection/univariate_selection.py:113: UserWarning: Features [23] are constant.\n",
      "  UserWarning)\n"
     ]
    },
    {
     "name": "stdout",
     "output_type": "stream",
     "text": [
      "Accuracy : 0.8911\n",
      "AUC Score (Train): 0.935601\n",
      "CV Score : Mean - 0.8407088 | Std - 0.03889098 | Min - 0.7640449 | Max - 0.8988764\n"
     ]
    },
    {
     "data": {
      "text/plain": [
       "<matplotlib.axes._subplots.AxesSubplot at 0x11e934f60>"
      ]
     },
     "execution_count": 74,
     "metadata": {},
     "output_type": "execute_result"
    },
    {
     "data": {
      "image/png": "[encoded data removed]",
      "text/plain": [
       "<matplotlib.figure.Figure at 0x11e228b38>"
      ]
     },
     "metadata": {},
     "output_type": "display_data"
    }
   ],
   "source": [
    "cv=StratifiedKFold(df_target.values,n_folds=10)\n",
    "pipeline_RF = make_pipeline(select, xgb_best)               \n",
    "pipeline_RF.fit(df_train, df_target)\n",
    "predictions_RF = pipeline_RF.predict(df_train)\n",
    "predict_proba_RF = pipeline_RF.predict_proba(df_train)[:,1]\n",
    "\n",
    "cv_score_RF = cross_val_score(pipeline_RF, df_train, df_target, cv= cv)\n",
    "print(\"Accuracy : %.4g\" % metrics.accuracy_score(df_target.values, predictions_RF))\n",
    "print(\"AUC Score (Train): %f\" % metrics.roc_auc_score(df_target, predict_proba_RF))\n",
    "print(\"CV Score : Mean - %.7g | Std - %.7g | Min - %.7g | Max - %.7g\" % (np.mean(cv_score_RF), np.std(cv_score_RF), \n",
    "np.min(cv_score_RF),\n",
    "np.max(cv_score_RF)))\n",
    "sb.distplot(cv_score_RF)"
   ]
  },
  {
   "cell_type": "code",
   "execution_count": null,
   "metadata": {
    "collapsed": true
   },
   "outputs": [],
   "source": [
    "final_pred2 = pipeline_RF.predict(df_test)\n",
    "submission2 = pd.DataFrame({\"PassengerId\": test[\"PassengerId\"], \"Survived\": final_pred2 })\n",
    "submission2.to_csv(\"m4.csv\", index=False) "
   ]
  },
  {
   "cell_type": "code",
   "execution_count": null,
   "metadata": {
    "collapsed": true
   },
   "outputs": [],
   "source": []
  }
 ],
 "metadata": {
  "kernelspec": {
   "display_name": "Python 3",
   "language": "python",
   "name": "python3"
  },
  "language_info": {
   "codemirror_mode": {
    "name": "ipython",
    "version": 3
   },
   "file_extension": ".py",
   "mimetype": "text/x-python",
   "name": "python",
   "nbconvert_exporter": "python",
   "pygments_lexer": "ipython3",
   "version": "3.5.1"
  }
 },
 "nbformat": 4,
 "nbformat_minor": 0
}
